{
 "cells": [
  {
   "attachments": {},
   "cell_type": "markdown",
   "metadata": {},
   "source": [
    "# Test computational cost of Stochastic Programming (Scenario Optimisation)"
   ]
  },
  {
   "attachments": {},
   "cell_type": "markdown",
   "metadata": {},
   "source": [
    "Investigate computational complexity and runtime of scnearios optimisation for system design problem, where each scenario uses a realisation of uncertain battery efficiencies."
   ]
  },
  {
   "cell_type": "code",
   "execution_count": null,
   "metadata": {},
   "outputs": [],
   "source": [
    "import os\n",
    "import csv\n",
    "import time\n",
    "import numpy as np\n",
    "\n",
    "from citylearn.citylearn import CityLearnEnv\n",
    "from linmodel import LinProgModel\n",
    "from schema_builder import build_schema\n",
    "from sys_eval import evaluate_system"
   ]
  },
  {
   "cell_type": "code",
   "execution_count": null,
   "metadata": {},
   "outputs": [],
   "source": [
    "# set up test parameters\n",
    "dataset_dir = os.path.join('A37_example_validate') # dataset directory\n",
    "schema_path = os.path.join('data', dataset_dir, 'schema.json')\n",
    "opex_factor = 10\n",
    "pricing_dict = {'carbon':5e-1,'battery':1e3,'solar':2e3}"
   ]
  },
  {
   "cell_type": "code",
   "execution_count": null,
   "metadata": {},
   "outputs": [],
   "source": [
    "# Set up base parameters of system.\n",
    "ids = [5,11,14,16,24,29]\n",
    "\n",
    "base_kwargs = {\n",
    "    'output_dir_path': os.path.join('data','A37_example_validate'),\n",
    "    'building_names': ['UCam_Building_%s'%id for id in ids],\n",
    "    'battery_energy_capacities': [3127.0,2736.0,2746.0,2448.0,4788.0,4565.0], # from Annex 37\n",
    "    'battery_power_capacities': [391.0,342.0,343.0,306.0,598.0,571.0], # from Annex 37\n",
    "    'battery_efficiencies': None,\n",
    "    'pv_power_capacities': [178.0,41.0,57.0,120.0,1349.0,257.0], # from Annex 37\n",
    "    'load_data_paths': ['UCam_Building_%s.csv'%id for id in ids],\n",
    "    'weather_data_path': 'weather.csv',\n",
    "    'carbon_intensity_data_path': 'carbon_intensity.csv',\n",
    "    'pricing_data_path': 'pricing.csv',\n",
    "    'schema_name': 'schema_temp'\n",
    "}"
   ]
  },
  {
   "cell_type": "code",
   "execution_count": null,
   "metadata": {},
   "outputs": [],
   "source": [
    "# Set up probabilistic model of effiencies and take draws\n",
    "n_draws = 100\n",
    "mu = 0.9\n",
    "sigma = 0.025\n",
    "eta_samples = np.random.normal(loc=mu,scale=sigma,size=(n_draws,len(ids)))"
   ]
  },
  {
   "cell_type": "code",
   "execution_count": null,
   "metadata": {},
   "outputs": [],
   "source": [
    "max_scenarios = 25\n",
    "runtimes = {}\n",
    "\n",
    "for M in range(1,max_scenarios):\n",
    "    print(f\"# Scenarios: {M}\")\n",
    "\n",
    "    etas = eta_samples[:M] # get M samples\n",
    "\n",
    "    for m in range(M):\n",
    "        # Build schema.\n",
    "        base_kwargs.update({\n",
    "                'battery_efficiencies': etas[m]\n",
    "            })\n",
    "        schema_path = build_schema(**base_kwargs)\n",
    "\n",
    "        # Initialise CityLearn environment object.\n",
    "        env = CityLearnEnv(schema=schema_path)\n",
    "\n",
    "        if m == 0: # initialise lp object\n",
    "            lp = LinProgModel(env=env)\n",
    "        else:\n",
    "            lp.add_env(env=env)\n",
    "\n",
    "    lp.set_time_data_from_envs()\n",
    "    lp.generate_LP(clip_level='b',design=True,pricing_dict=pricing_dict,opex_factor=opex_factor)\n",
    "    lp.set_LP_parameters()\n",
    "\n",
    "    start = time.time()\n",
    "    results = lp.solve_LP(verbose=False,ignore_dpp=True)\n",
    "    end = time.time()\n",
    "\n",
    "    runtimes.update({M: end-start})\n",
    "    print(f\"Solve time: {round(runtimes[-1],1)}s\")"
   ]
  },
  {
   "cell_type": "code",
   "execution_count": 1,
   "metadata": {},
   "outputs": [],
   "source": [
    "# Plot computational time results"
   ]
  },
  {
   "cell_type": "code",
   "execution_count": 2,
   "metadata": {},
   "outputs": [],
   "source": [
    "# Compute MC estimate of true system cost"
   ]
  },
  {
   "cell_type": "code",
   "execution_count": 3,
   "metadata": {},
   "outputs": [],
   "source": [
    "# Plot convergence of MC estimate"
   ]
  },
  {
   "cell_type": "code",
   "execution_count": null,
   "metadata": {},
   "outputs": [],
   "source": []
  }
 ],
 "metadata": {
  "kernelspec": {
   "display_name": "VOI-CAS",
   "language": "python",
   "name": "python3"
  },
  "language_info": {
   "codemirror_mode": {
    "name": "ipython",
    "version": 3
   },
   "file_extension": ".py",
   "mimetype": "text/x-python",
   "name": "python",
   "nbconvert_exporter": "python",
   "pygments_lexer": "ipython3",
   "version": "3.8.16"
  },
  "orig_nbformat": 4
 },
 "nbformat": 4,
 "nbformat_minor": 2
}
