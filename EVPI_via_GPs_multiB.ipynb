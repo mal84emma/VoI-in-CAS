{
 "cells": [
  {
   "cell_type": "markdown",
   "metadata": {},
   "source": [
    "# Perform VoI calculation using GP surrogate over join action-uncertainty space for multiple buildings"
   ]
  },
  {
   "cell_type": "code",
   "execution_count": 1,
   "metadata": {},
   "outputs": [],
   "source": [
    "import os\n",
    "import json\n",
    "import time\n",
    "import numpy as np\n",
    "from tqdm import tqdm\n",
    "\n",
    "from scipy.stats import qmc\n",
    "import sklearn.gaussian_process as gp\n",
    "import scipy.optimize as op\n",
    "\n",
    "import matplotlib.pyplot as plt\n",
    "import matplotlib.tri as tri\n",
    "\n",
    "import inspect\n",
    "from multiprocessing import Pool"
   ]
  },
  {
   "cell_type": "code",
   "execution_count": 2,
   "metadata": {},
   "outputs": [],
   "source": [
    "ids = [48,32]"
   ]
  },
  {
   "cell_type": "code",
   "execution_count": 3,
   "metadata": {},
   "outputs": [],
   "source": [
    "# Define base parameters.\n",
    "dataset_dir = os.path.join('data','A37_analysis_test') # dataset directory\n",
    "opex_factor = 10\n",
    "pricing_dict = {'carbon':5e-1,'battery':1e3,'solar':2e3}\n",
    "with open(os.path.join(dataset_dir,'metadata_ext.json'),'r') as json_file:\n",
    "        annex_defaults = json.load(json_file)\n",
    "base_kwargs = {\n",
    "    'output_dir_path': dataset_dir,\n",
    "    'building_names': ['UCam_Building_%s'%id for id in ids],\n",
    "    'battery_energy_capacities': None,\n",
    "    'battery_power_capacities': [annex_defaults[\"building_attributes\"][\"battery_power_capacities (kW)\"][str(id)] for id in ids],\n",
    "    'battery_efficiencies': None,\n",
    "    'pv_power_capacities': None,\n",
    "    'load_data_paths': ['UCam_Building_%s.csv'%id for id in ids],\n",
    "    'weather_data_path': 'weather.csv',\n",
    "    'carbon_intensity_data_path': 'carbon_intensity.csv',\n",
    "    'pricing_data_path': 'pricing.csv',\n",
    "    'schema_name': 'schema_temp'\n",
    "}"
   ]
  },
  {
   "cell_type": "code",
   "execution_count": 4,
   "metadata": {},
   "outputs": [],
   "source": [
    "# Define multiprocessing helper functions.\n",
    "\n",
    "n_processes = min(25,os.cpu_count()//2) # for some reason more than this is an issue ...? Maybe a memory issue\n",
    "\n",
    "def multi_proc_constr_and_eval_system(args_list):\n",
    "\n",
    "    from sys_eval import construct_and_evaluate_system\n",
    "\n",
    "    return construct_and_evaluate_system(*args_list)\n",
    "\n",
    "def parallel_task(func, iterable, n_procs):\n",
    "    # Adapted from solution to https://stackoverflow.com/questions/47313732/jupyter-notebook-never-finishes-processing-using-multiprocessing-python-3/47374811\n",
    "    # NOTE: this function must be in the notebook\n",
    "    # NOTE: in this workaround, the function passed to `parallel_task`\n",
    "    # must do all of the importing it needs, and unwrap the arguments\n",
    "    # (only a single argument can be passed)\n",
    "\n",
    "    temp_path = f'./tmp_func.py'\n",
    "    with open(temp_path, 'w') as file:\n",
    "        file.write(inspect.getsource(func).replace(func.__name__, \"task\"))\n",
    "\n",
    "    from tmp_func import task\n",
    "\n",
    "    if __name__ == '__main__':\n",
    "        pool = Pool(processes=n_procs)\n",
    "        res = list(tqdm(pool.imap(task, iterable), total=len(iterable)))\n",
    "        pool.close()\n",
    "        os.remove(temp_path)\n",
    "        return res\n",
    "    else:\n",
    "        raise \"Not in Jupyter Notebook\""
   ]
  },
  {
   "cell_type": "markdown",
   "metadata": {},
   "source": [
    "## Step 1: Train GP Surrogate"
   ]
  },
  {
   "cell_type": "markdown",
   "metadata": {},
   "source": [
    "Note: probably sensible to conduct an initial rough space search to identify sensible bounds as we expect the objective (cost) to be behaviour reasonably nicely, at least far from the region of the optimum.\n",
    "The smaller the bounded region the better the surrogate will be and the easier the global optimisation will be - however as these bounds are arbitrary, if we encounter boundary solutions, the bounds need to be extended."
   ]
  },
  {
   "cell_type": "markdown",
   "metadata": {},
   "source": [
    "Remeber to note Dom's alternative suggestion for learning a surrogate, and it's motivation from the smoothness of his posterior solution results"
   ]
  },
  {
   "cell_type": "code",
   "execution_count": 5,
   "metadata": {},
   "outputs": [],
   "source": [
    "# Perform sampling of action-uncertainty space\n",
    "seed = 42\n",
    "n_samples = 10000 # increase for final results?\n",
    "\n",
    "# Space filling sampling of action sub-space using Latin Hypercube\n",
    "lower_bounds = np.array([*[1e3,3e2],*[8e2,1e2]])\n",
    "upper_bounds = np.array([*[1.4e3,7e2],*[1.2e3,5e2]])\n",
    "\n",
    "action_sampler = qmc.LatinHypercube(d=len(ids)*2)\n",
    "action_samples = action_sampler.random(n=n_samples)\n",
    "action_samples = qmc.scale(action_samples, lower_bounds, upper_bounds)\n",
    "\n",
    "# Sample from prior distributions of uncertain parameters\n",
    "mu = 0.85\n",
    "sigma = 0.1\n",
    "eta_samples = np.random.normal(loc=mu,scale=sigma,size=(n_samples,len(ids)))\n",
    "eta_samples = np.clip(eta_samples,0,1)\n",
    "\n",
    "# Combine samples from two sub-spaces\n",
    "space_samples = np.hstack([action_samples,eta_samples])"
   ]
  },
  {
   "cell_type": "code",
   "execution_count": 6,
   "metadata": {},
   "outputs": [],
   "source": [
    "# Evaluate system cost over samples. (Old serial implementation)\n",
    "# costs = []\n",
    "# for n in tqdm(range(n_samples)):\n",
    "#     cost = construct_and_evaluate_system(action_samples[n][:len(ids)],action_samples[n][len(ids):],eta_samples[n],base_kwargs,pricing_dict,opex_factor)\n",
    "#     costs.append(cost)"
   ]
  },
  {
   "cell_type": "code",
   "execution_count": 7,
   "metadata": {},
   "outputs": [
    {
     "name": "stderr",
     "output_type": "stream",
     "text": [
      "100%|██████████| 10000/10000 [15:53:19<00:00,  5.72s/it]  \n"
     ]
    }
   ],
   "source": [
    "# Evaluate system cost over samples. (Parallelised)\n",
    "mproc_args_list = [[action_samples[n][:len(ids)],action_samples[n][len(ids):],eta_samples[n],base_kwargs,pricing_dict,opex_factor,n] for n in range(n_samples)]\n",
    "space_sample_costs = parallel_task(multi_proc_constr_and_eval_system, mproc_args_list, n_procs=n_processes)"
   ]
  },
  {
   "cell_type": "markdown",
   "metadata": {},
   "source": [
    "### GP training"
   ]
  },
  {
   "cell_type": "code",
   "execution_count": 8,
   "metadata": {},
   "outputs": [
    {
     "data": {
      "text/plain": [
       "0.474**2 * RBF(length_scale=[214, 197, 99.9, 54.3, 0.105, 0.261])"
      ]
     },
     "execution_count": 8,
     "metadata": {},
     "output_type": "execute_result"
    }
   ],
   "source": [
    "# Train Gaussian Process surrogate.\n",
    "\n",
    "length_scale_init_guess = [*[50]*len(ids),*[40]*len(ids),*[0.1]*len(ids)]\n",
    "kernel = 1 * gp.kernels.RBF(length_scale=np.array(length_scale_init_guess))\n",
    "gp_surrogate = gp.GaussianProcessRegressor(kernel=kernel,normalize_y=True, n_restarts_optimizer=5)\n",
    "start = time.time()\n",
    "gp_surrogate.fit(space_samples, space_sample_costs)\n",
    "end = time.time()\n",
    "gp_surrogate.kernel_"
   ]
  },
  {
   "cell_type": "code",
   "execution_count": 9,
   "metadata": {},
   "outputs": [
    {
     "name": "stdout",
     "output_type": "stream",
     "text": [
      "GP surrogate training time: 3445.8\n"
     ]
    }
   ],
   "source": [
    "print(f\"GP surrogate training time: {round(end-start,1)}\")"
   ]
  },
  {
   "cell_type": "markdown",
   "metadata": {},
   "source": [
    "NOTE!!! Training the GP properly seems to be a bit of an issue - the length scales that comes out of the optimiser are sometimes completely off - having a good initialisation to the optimisation seems important"
   ]
  },
  {
   "cell_type": "code",
   "execution_count": 10,
   "metadata": {},
   "outputs": [],
   "source": [
    "mean_prediction, std_prediction = gp_surrogate.predict(space_samples, return_std=True)"
   ]
  },
  {
   "cell_type": "markdown",
   "metadata": {},
   "source": [
    "## Step 2: Solve Prior Problem using Surrogate"
   ]
  },
  {
   "cell_type": "code",
   "execution_count": 11,
   "metadata": {},
   "outputs": [],
   "source": [
    "# Define fn for system cost predicted by surrogate.\n",
    "def single_surrogate_estimate(x, surrogate, eta):\n",
    "\n",
    "    assert len(x) % 2 == 0, \"Design variable argument must have even length.\"\n",
    "\n",
    "    predict_point = [np.hstack([x,np.array(eta)])]\n",
    "    mean_prediction = surrogate.predict(predict_point)\n",
    "\n",
    "    return mean_prediction\n",
    "\n",
    "# Define fn of mean system cost predicted by surrogate.\n",
    "def mean_cost_surrogate_estimate(x, surrogate, n_MC_samples, eta_mu, eta_sigma):\n",
    "\n",
    "    assert len(x) % 2 == 0, \"Design variable argument must have even length.\"\n",
    "\n",
    "    # Make draw from distribution of uncertainties - specified in args (mu, sigma)\n",
    "    # ========================================================================\n",
    "    eta_samples = np.random.normal(loc=eta_mu,scale=eta_sigma,size=(n_MC_samples,len(ids)))\n",
    "    eta_samples = np.clip(eta_samples,0,1)\n",
    "\n",
    "    # Predict costs for each efficiency sample at target point using surrogate\n",
    "    # ========================================================================\n",
    "    predict_points = np.hstack([np.tile(x,(n_MC_samples,1)),eta_samples])\n",
    "    mean_prediction = surrogate.predict(predict_points)\n",
    "\n",
    "    return np.mean(mean_prediction)"
   ]
  },
  {
   "cell_type": "code",
   "execution_count": 12,
   "metadata": {},
   "outputs": [],
   "source": [
    "bounds = op.Bounds(lb=lower_bounds,ub=upper_bounds)\n",
    "n_surrogate_MC_samples = 5000"
   ]
  },
  {
   "cell_type": "code",
   "execution_count": 13,
   "metadata": {},
   "outputs": [
    {
     "name": "stdout",
     "output_type": "stream",
     "text": [
      "[1113.83033762  614.94568194 1016.11607335  335.33918873] 9931466.329845376 360 Optimization terminated successfully.\n",
      "Prior solution: [1113.83033762  614.94568194 1016.11607335  335.33918873]\n",
      "Predicted prior solution cost: 9931466.33\n",
      "Prior problem solve time: 722.7\n",
      "360\n"
     ]
    }
   ],
   "source": [
    "start = time.time()\n",
    "prior_soln = op.differential_evolution(mean_cost_surrogate_estimate, bounds, args=(gp_surrogate,n_surrogate_MC_samples,mu,sigma), seed=seed)\n",
    "end = time.time()\n",
    "print(prior_soln.x, prior_soln.fun, prior_soln.nfev, prior_soln.message)\n",
    "prior_design = prior_soln.x\n",
    "prior_cost = prior_soln.fun\n",
    "print(f\"Prior solution: {prior_design}\")\n",
    "print(f\"Predicted prior solution cost: {round(prior_cost,2)}\")\n",
    "print(f\"Prior problem solve time: {round(end-start,1)}\")\n",
    "print(prior_soln.nfev)"
   ]
  },
  {
   "cell_type": "markdown",
   "metadata": {},
   "source": [
    "### Test quality of surrogate prior optimal solution"
   ]
  },
  {
   "cell_type": "code",
   "execution_count": 14,
   "metadata": {},
   "outputs": [
    {
     "name": "stderr",
     "output_type": "stream",
     "text": [
      "100%|██████████| 500/500 [47:39<00:00,  5.72s/it]  "
     ]
    },
    {
     "name": "stdout",
     "output_type": "stream",
     "text": [
      "True prior solution cost: 9942370.62\n",
      "Surrogate prior optimal solution fn error: 10904.29,    0.11%\n"
     ]
    },
    {
     "name": "stderr",
     "output_type": "stream",
     "text": [
      "\n"
     ]
    }
   ],
   "source": [
    "n_MC_samples = 500\n",
    "eta_samples = np.random.normal(loc=mu,scale=sigma,size=(n_MC_samples,len(ids)))\n",
    "eta_samples = np.clip(eta_samples,0,1)\n",
    "\n",
    "# sample_costs = []\n",
    "# for eta_sample in tqdm(eta_samples):\n",
    "#     sample_cost = construct_and_evaluate_system(prior_design[:len(ids)],prior_design[len(ids):],eta_sample,base_kwargs,pricing_dict,opex_factor)\n",
    "#     sample_costs.append(sample_cost)\n",
    "mproc_args_list = [[prior_design[:len(ids)],prior_design[len(ids):],eta_samples[n],base_kwargs,pricing_dict,opex_factor,n] for n in range(n_MC_samples)]\n",
    "sample_costs = parallel_task(multi_proc_constr_and_eval_system, mproc_args_list, n_procs=n_processes)\n",
    "\n",
    "true_prior_soln_cost_estimate = np.mean(sample_costs)\n",
    "\n",
    "print(f\"True prior solution cost: {round(true_prior_soln_cost_estimate,2)}\")\n",
    "print(f\"Surrogate prior optimal solution fn error: {round(np.abs(true_prior_soln_cost_estimate-prior_cost),2)},\\\n",
    "    {round((np.abs(true_prior_soln_cost_estimate-prior_cost)/true_prior_soln_cost_estimate)*100,2)}%\")"
   ]
  },
  {
   "cell_type": "markdown",
   "metadata": {},
   "source": [
    "Compare absolute error to MC estimate standard error"
   ]
  },
  {
   "cell_type": "code",
   "execution_count": 15,
   "metadata": {},
   "outputs": [
    {
     "name": "stdout",
     "output_type": "stream",
     "text": [
      "9108.499843481215\n"
     ]
    }
   ],
   "source": [
    "print(np.std(sample_costs)/np.sqrt(len(sample_costs)))"
   ]
  },
  {
   "cell_type": "markdown",
   "metadata": {},
   "source": [
    "## Step 3: Solve Pre-Posterior Problem using Surrogate"
   ]
  },
  {
   "cell_type": "code",
   "execution_count": 16,
   "metadata": {},
   "outputs": [],
   "source": [
    "# Sample from prior distribution of uncertainties.\n",
    "n_prior_samples = 500\n",
    "prior_eta_samples = np.random.normal(loc=mu,scale=sigma,size=(n_prior_samples,len(ids)))\n",
    "prior_eta_samples = np.clip(prior_eta_samples,0,1)"
   ]
  },
  {
   "cell_type": "code",
   "execution_count": 17,
   "metadata": {},
   "outputs": [
    {
     "name": "stderr",
     "output_type": "stream",
     "text": [
      "100%|██████████| 500/500 [1:32:49<00:00, 11.14s/it]\n"
     ]
    }
   ],
   "source": [
    "posterior_optimal_results = []\n",
    "prior_soln_performances = []\n",
    "\n",
    "# Solve posterior problem for each eta sample.\n",
    "for eta_sample in tqdm(prior_eta_samples):\n",
    "    posterior_soln = op.differential_evolution(single_surrogate_estimate, bounds, args=(gp_surrogate,eta_sample), seed=seed)\n",
    "    posterior_optimal_results.append(posterior_soln)\n",
    "    #print(eta_sample, posterior_soln.x, posterior_soln.fun, posterior_soln.message)\n",
    "\n",
    "    # check surrogate predicted performance (cost) of prior solution for posterior given sampled eta value\n",
    "    prior_soln_eta_cost = single_surrogate_estimate(prior_design,gp_surrogate,eta_sample)\n",
    "    prior_soln_performances.append(*prior_soln_eta_cost)"
   ]
  },
  {
   "cell_type": "code",
   "execution_count": 18,
   "metadata": {},
   "outputs": [
    {
     "name": "stdout",
     "output_type": "stream",
     "text": [
      "Pre-posterior cost: 9915165.523735126\n",
      "Prior cost check:  9932360.745289566 9931466.329845376\n"
     ]
    }
   ],
   "source": [
    "preposterior_costs = [res.fun for res in posterior_optimal_results]\n",
    "preposterior_cost = np.mean(preposterior_costs)\n",
    "print(\"Pre-posterior cost: %s\"%preposterior_cost)\n",
    "print(\"Prior cost check: \",np.mean(prior_soln_performances),prior_cost)"
   ]
  },
  {
   "cell_type": "markdown",
   "metadata": {},
   "source": [
    "NOTE: The two methods of calculating prior solution cost return quite different values - which one is better to use? Potentially the one computed using the nested expectations as it uses the same posterior cost curve estimates (from the surrogate) that is used for the posterior optimisation. But on the other hand, the first method is one used to determine the prior solution."
   ]
  },
  {
   "cell_type": "code",
   "execution_count": 19,
   "metadata": {},
   "outputs": [
    {
     "data": {
      "image/png": "[encoded data removed]",
      "text/plain": [
       "<Figure size 640x480 with 2 Axes>"
      ]
     },
     "metadata": {},
     "output_type": "display_data"
    }
   ],
   "source": [
    "# Plot convergence of pre-posterior cost MC estimate.\n",
    "\n",
    "MC_means = [np.mean(preposterior_costs[:i]) for i in range(1,n_prior_samples+1)]\n",
    "MC_stnd_errors = [np.std(preposterior_costs[:i])/np.sqrt(i) for i in range(2,n_prior_samples+1)]\n",
    "\n",
    "fig,ax = plt.subplots()\n",
    "ax.set_xlim(1,n_prior_samples)\n",
    "ax.set_xlabel(\"Number of samples\")\n",
    "ax.grid(True,'major',alpha=0.5,linestyle='--')\n",
    "\n",
    "ax.plot(range(1,n_prior_samples+1),np.array(MC_means)/1e6,'-k')\n",
    "ax.set_ylabel('Pre-posterior cost estimate (£m)')\n",
    "#ax.set_ylim(0)\n",
    "\n",
    "# min_ax = ax.twinx()\n",
    "# min_ax.plot(range(2,n_draws+1),(np.array(MC_stnd_errors)/MC_means[-1])*100,'k--')\n",
    "# min_ax.set_ylabel('Estimate standard error (% of final mean)')\n",
    "# min_ax.set_ylim(0)\n",
    "\n",
    "min_ax_abs = ax.twinx()\n",
    "min_ax_abs.plot(range(2,n_prior_samples+1),np.array(MC_stnd_errors)/1e3,'k:')\n",
    "min_ax_abs.set_ylabel('Estimate standard error (£k)')\n",
    "min_ax_abs.set_ylim(0)\n",
    "\n",
    "plt.show()"
   ]
  },
  {
   "cell_type": "markdown",
   "metadata": {},
   "source": [
    "### Test quality of surrogate posterior optimal solutions"
   ]
  },
  {
   "cell_type": "markdown",
   "metadata": {},
   "source": [
    "Note - this calculation is extremely hefty! However, we can use a random sub-sample of solutions to estimate mean quality (note solutions are already randomly ordered)"
   ]
  },
  {
   "cell_type": "code",
   "execution_count": 20,
   "metadata": {},
   "outputs": [
    {
     "name": "stderr",
     "output_type": "stream",
     "text": [
      "100%|██████████| 500/500 [47:48<00:00,  5.74s/it]  \n"
     ]
    }
   ],
   "source": [
    "mproc_args_list = []\n",
    "for i, (posterior_result,eta_sample) in enumerate(zip(posterior_optimal_results,prior_eta_samples)):\n",
    "    mproc_args_list.append([posterior_result.x[:len(ids)],posterior_result.x[len(ids):],eta_sample,base_kwargs,pricing_dict,opex_factor,i])\n",
    "true_posterior_soln_cost = parallel_task(multi_proc_constr_and_eval_system, mproc_args_list, n_procs=n_processes)"
   ]
  },
  {
   "cell_type": "code",
   "execution_count": 21,
   "metadata": {},
   "outputs": [
    {
     "name": "stdout",
     "output_type": "stream",
     "text": [
      "Predicted posterior solution costs:  [9823695.561057052, 9881838.191721106, 10034946.46464043, 10011039.628076801, 10448773.464969892, 9893687.020043397, 9904309.54202561, 10056873.103190206, 9881035.426586038, 10087902.796375696, 10154803.810226453, 9828864.312663564, 9543397.75310321, 9951018.27969762, 10251412.3193698, 10105782.247051226, 10082596.680928158, 9882252.008055966, 9965175.99206639, 9791536.523658926, 10307747.865486467, 9919893.843823012, 9740318.301555045, 10259489.807714853, 9925901.254698938, 10193292.714236703, 10130271.64020076, 9920363.47035355, 9872140.218127696, 10161275.32048312, 9686862.04648395, 9799584.423723312, 10054268.790262831, 9668374.359695584, 10221426.825280098, 9832787.58941082, 9723551.675846677, 9845838.16605726, 9777243.996649763, 9953092.134072166, 9765130.4175287, 9658091.40594391, 9816515.996085644, 9846226.485746136, 9887982.010308566, 9643238.361264944, 9508734.610373374, 9650224.509482082, 10186300.215024782, 10299301.98978132, 9799818.383218361, 10050014.236741254, 10167740.417390788, 9843644.095959416, 9704589.43736294, 10063811.055116668, 9820896.412596123, 9912663.541083595, 9972739.218617905, 10004538.725420397, 9642100.759349464, 9946655.430845292, 9810008.695824154, 10228629.146612255, 10007706.77168406, 9890303.045680137, 9501175.231606858, 9688939.173630862, 10067729.30564509, 10198331.302630533, 9812882.725807695, 10013590.553706244, 9974735.889422284, 9738956.007066272, 10012297.63447992, 9647300.076060632, 9681707.354355402, 10201387.069165446, 9619949.93980961, 9920479.877019102, 9702283.777998991, 10298539.04446167, 9817381.53917186, 10242879.265481368, 9744377.598507073, 10002678.985029312, 10150696.404015524, 9594097.743163915, 9954999.138624962, 10326968.296705112, 10024741.187653182, 9824648.22214922, 9549893.912309112, 9875704.231606543, 9856904.734862125, 10408565.518618368, 9570722.142561832, 9645084.676504554, 9551895.135470377, 10007134.656671753, 9678295.785820697, 10079483.632179221, 9906998.011564316, 9567890.495817307, 9617296.6799095, 9700293.722737972, 9515539.020009154, 10033302.429988565, 9907129.318538276, 9694855.254066285, 10112212.50660833, 9568218.808204552, 9899924.602336349, 9949455.483812856, 10118877.567142244, 10071197.305045605, 10089095.53666543, 9875395.242156575, 10253576.001406247, 9743673.031115413, 10014423.78753997, 9618395.789903771, 9990846.88796123, 10055160.339742515, 10229297.749668118, 9644247.490356378, 10193961.391557941, 9917395.697613914, 9849994.53938321, 9977186.443058342, 10029180.564503355, 9762259.39242578, 9956373.99633528, 9887848.929008614, 10105147.485156002, 9586029.984357888, 9927393.661846362, 10072920.638645, 10050464.336706331, 9764619.652935024, 9782160.392244214, 9922413.924875388, 9886370.084051527, 9787557.284218445, 10287859.5600579, 9611867.879094156, 10026044.286314448, 10000797.774941675, 10129036.338464992, 10010469.275272548, 10121630.466088023, 9501175.231606858, 9609991.955116041, 10113169.367953606, 10010982.44045546, 10181861.408021089, 10166562.432272637, 10294718.266721753, 9928182.117277946, 9696941.67908243, 9695728.913348673, 10009748.206090024, 9769700.281518593, 9769196.769612748, 9932778.004383074, 10135978.80604646, 9718845.762118798, 10146635.44371663, 9900319.25260568, 10229996.447294917, 9917862.924685791, 10220086.769175222, 9809079.317341803, 9955018.101306222, 10266706.262335042, 10294646.087939892, 10026630.039849149, 9892777.613488909, 9751753.668631459, 10156725.506585142, 10270151.547758142, 9515289.550132003, 9598908.427762048, 9939765.186177395, 10306619.13494087, 9926493.493340308, 9708810.439798659, 10018239.780082319, 9952542.519434527, 9669230.268618291, 10243032.871957827, 10128671.382819759, 9924333.809400627, 10069628.230416832, 9994454.739022207, 9974895.530784937, 9525746.808536856, 10056921.424326655, 10047086.246040063, 9843474.976431856, 9906060.186959777, 9841071.415573392, 9600326.986031454, 9829368.907965582, 10015937.67490699, 9651154.462848296, 9671392.248402297, 9650207.40886154, 9899649.12688493, 9613159.62062476, 10142360.044044629, 10100178.674837345, 9603419.655857, 9658477.533307426, 9860790.257289821, 10016872.96595043, 10122989.626349188, 9707254.514439767, 9907725.333617013, 10087254.654597113, 9604132.078732524, 10050657.551344031, 9634250.469829384, 10050051.66548944, 9955903.01877678, 9993584.104548033, 9997510.505607221, 9612061.850081742, 10221740.498807602, 9809777.016657721, 9967237.88144895, 9568630.470714748, 9841300.686938409, 9996798.308019927, 10252921.456616905, 9575528.70244784, 9752928.535251414, 9988627.868198982, 9553650.517200796, 10164889.035242738, 10164004.546752539, 9891586.784223644, 9650202.295755964, 9826072.441942682, 9871363.467674354, 9765865.209638366, 10110531.28358361, 10191801.437029393, 10088499.952599892, 9732248.30292537, 10068288.147583982, 9993291.407233642, 10059949.010756055, 9695543.87622835, 10055204.871595433, 9720546.765296126, 9897524.592812046, 9856635.820337871, 10156369.576755252, 9746120.630290616, 9889672.673174169, 9839258.157982567, 10024527.130779117, 9732872.918731513, 9849157.601926092, 9632400.339800255, 9680342.24583505, 9932181.31947818, 9758346.17163691, 9901095.710908333, 9634768.364117987, 9620374.51910598, 10119479.33303313, 9875262.538899062, 10085346.805975303, 9684884.44794437, 10060574.137295995, 9784120.766909737, 10260535.819631394, 9953582.265058344, 10155208.505214548, 10017878.936784064, 9876455.863248901, 9897903.877750177, 9995736.577280512, 9613941.482648116, 9965012.69864739, 9771397.350095157, 10200426.437575154, 9920458.926690374, 10099971.430537703, 10115147.336227149, 10116410.336941568, 10049657.863391722, 10255352.28082754, 9573054.88760821, 9688057.262864131, 9598092.218638493, 9626151.830460329, 10285607.882636119, 9926552.737759978, 9602950.810313473, 9952000.572619962, 9676396.382638114, 9977636.802004814, 10057529.539022805, 9960883.202173714, 9815811.564201018, 10035796.116983376, 9921523.211573316, 9970863.093944738, 10091235.771318799, 10187798.323842615, 9950964.230861789, 9899349.485828122, 10171361.086100755, 9942001.22458667, 9967357.084900668, 10262883.920656497, 9629730.002270415, 10220567.769926038, 9848030.62436078, 9563296.06487828, 10118030.51815115, 10219543.911869327, 10176907.246119449, 9785961.556974819, 9535072.009124346, 10164947.349483442, 9936777.856288938, 10215963.960353727, 9953135.429383561, 9644444.366333682, 9717349.107343035, 9742529.276818141, 10107851.684232023, 9635064.51723863, 9882640.266134674, 10064971.686006034, 9677134.812352305, 9840240.181155238, 10007416.880730907, 9734842.153342491, 9743064.724279892, 9773388.678283151, 10117868.60414824, 9849254.929262113, 10159487.689711718, 9982473.51329142, 9928089.493358143, 9937478.41359115, 9692555.369223854, 10010629.380661678, 10038421.631801037, 10139918.065131936, 9996133.398959426, 9793170.209886603, 9920403.041857736, 9645058.199160295, 9629547.261325022, 9605994.871801145, 9826664.968369773, 9983520.78470052, 10122226.550433207, 9785737.224298485, 10016526.172716357, 10172181.01044408, 9672275.381416282, 10106817.249626013, 9842951.574510353, 9845275.289931925, 9805951.513949761, 10115017.397585018, 9855757.444530506, 9837989.510507071, 10213130.064063914, 9868274.22765663, 10048362.817983279, 9914557.955953857, 9993721.730796682, 9947556.918383878, 9561462.662892478, 9773792.86920477, 9601490.727577496, 10051616.297161378, 10104377.355460735, 10052859.629451416, 10193756.762420887, 9802404.534751762, 9851686.193102064, 9694667.83683082, 10179436.535839766, 9938029.57571978, 9942499.107065631, 9970062.263434956, 10052014.018833848, 10086277.66255892, 10120887.32510884, 10107825.77517231, 10062393.886329994, 9804920.450896658, 9891129.763931504, 9844778.871839646, 9945417.017925909, 9814559.801448103, 9781504.696874537, 10012125.042412255, 10022896.522727491, 10211289.683227386, 9590706.32293451, 9894746.119201042, 9901166.92823029, 9647716.002366746, 9997828.39546202, 9812102.571471786, 9803189.179986892, 9717822.181723816, 9843672.010950075, 9927312.962858556, 9752735.368241427, 10137025.988964476, 10072117.178417306, 10207646.988286408, 9637049.053570652, 9591153.841124061, 9914063.143188654, 10259807.162141377, 9799676.268733114, 9642175.145612895, 9970189.82065228, 9980030.57791984, 10054992.339076297, 9905049.765532805, 10081607.53067418, 10057819.712511582, 10023190.097189661, 10210315.701463401, 9927307.988727115, 9873804.835653936, 10026812.024981927, 9987146.707387019, 10096010.084575936, 9822806.194851743, 10099311.213324402, 9940895.014518581, 9920868.670107363, 9595404.45893034, 9780091.008122515, 10108681.365654407, 9949087.86402634, 9897777.965678643, 9964950.586447928, 9687990.928346308, 9521675.315774344, 9710384.76498081, 10245344.270842442, 9716336.456929913, 9704760.376535805, 9742502.781355428, 9922907.621125225, 9707038.060627053, 9829187.358320843, 9817608.815007236, 9964391.967939122, 9913842.543314919, 9538095.439747352, 10018410.562962238, 9716780.17348265, 9950959.995212069, 10082905.801807174, 9857349.931799699, 10010944.040003728, 10132755.421588285, 10105493.925566638, 10041128.444329606, 10057693.5881017, 10086407.646884922, 9789401.720780825, 10146663.910878317, 9693427.119561637, 10067409.365855409, 9599112.21122948, 9644382.03028267, 10143667.559440384, 9746146.757445058, 10157425.78335974, 9811416.489923244, 10074901.558920916, 10020785.904610638, 9971482.384754462, 9825878.254974732, 9963030.41519569, 9609381.436513856, 10171771.814094702, 10193364.40691046, 9757178.5255852, 9717473.107916772, 10062609.471646205, 9649396.451215163, 9560471.689298438]\n",
      "Estimates of true posterior solution costs:  [9823460.52449394, 9880879.63239001, 10034878.60329161, 10009996.51630279, 10531464.677497908, 9893846.970820617, 9905321.768699221, 10057245.849088773, 9881806.468898041, 10087142.865496444, 10154206.435116898, 9829525.632236885, 9538785.965690548, 9951687.403136343, 10251288.468097951, 10105884.796616113, 10077240.603230245, 9882894.047067422, 9965751.826083796, 9792874.936868768, 10313369.50193763, 9919613.835974924, 9742378.154159792, 10271829.76445699, 9926480.555852097, 10193802.475039406, 10130214.229672251, 9919721.64272008, 9871714.911258548, 10159706.582087114, 9693123.403304063, 9800622.045768954, 10050654.847063407, 9669580.639879353, 10222900.251670765, 9831208.476908654, 9729138.20262371, 9844694.037437256, 9778047.377273697, 9953482.399861071, 9766269.516448062, 9662295.68204163, 9816964.584530568, 9847438.157240313, 9885808.571858006, 9646932.84459522, 9498404.663343897, 9643318.944432927, 10186982.09531509, 10305029.404074494, 9795974.606224805, 10042768.567782147, 10171821.307786971, 9842214.09620741, 9712140.188606244, 10063614.476107562, 9822614.627551615, 9913091.779338438, 9970664.142619662, 10004520.870523397, 9645006.934736203, 9945135.269166835, 9805658.582654092, 10232879.855200594, 10008864.843132107, 9888903.824257797, 9490589.51970734, 9693967.686564874, 10068912.097006507, 10197650.44334602, 9810955.292224277, 10014265.62580018, 9975772.363495892, 9741096.236635445, 10012894.129924476, 9649020.619954173, 9685536.818242934, 10205184.04212102, 9619563.937720846, 9918842.365954392, 9710069.573418576, 10323936.471441176, 9819336.382421184, 10257542.332208887, 9742480.930857638, 9997265.056311935, 10154905.936698522, 9595363.185602123, 9953715.374548173, 10405856.815750489, 10025369.15942829, 9824045.913590306, 9546399.969405852, 9873251.986642292, 9855341.928243848, 10475331.96061486, 9571541.129983384, 9646251.50845344, 9549221.766799167, 10006624.890934844, 9679183.55434876, 10080482.194783146, 9906132.942518815, 9564923.714047901, 9621059.139931658, 9702815.666563172, 9507736.894518558, 10033173.488078471, 9909036.374823859, 9704672.973029187, 10111681.601265373, 9567042.738174431, 9898000.276118647, 9949310.456331199, 10120978.972224846, 10068377.566831253, 10088281.237007082, 9876902.739688259, 10253541.650023796, 9746248.134454738, 10014715.662753575, 9622945.78600475, 9983322.385603601, 10055098.555555945, 10246269.330943054, 9650193.697505293, 10192034.907221159, 9917361.647010101, 9850720.696654338, 9979739.598904874, 10030982.496096795, 9763140.187005924, 9956423.002359593, 9886640.698828867, 10103641.808687888, 9584920.743665729, 9926596.244182521, 10072760.77685963, 10050167.014398567, 9767661.854315583, 9782545.736910058, 9923721.15371266, 9885196.486089226, 9781475.252533697, 10294540.475610642, 9613793.165773612, 10027393.368991733, 9999619.141026763, 10128492.808446705, 10012286.462268528, 10123700.50542263, 9490589.51970734, 9611274.507984668, 10110599.277725803, 10000649.644028412, 10190039.376804821, 10171347.117662711, 10296690.108771432, 9926232.270060414, 9704251.793207899, 9701239.509327745, 10010117.145589326, 9776343.862184059, 9768918.927979603, 9934030.035650454, 10135425.556450447, 9721974.604454128, 10148123.408425529, 9900831.730588933, 10230199.416694585, 9917480.625264838, 10228019.865862789, 9810223.756490521, 9955203.865391176, 10267301.003669277, 10317934.396132087, 10026375.489617849, 9912402.78715434, 9747398.774460258, 10159259.560618484, 10286196.98989869, 9507587.160562577, 9600280.178019436, 9940028.623549784, 10334400.269545572, 9928733.886652034, 9716058.577960873, 10013350.03463808, 9953442.743320014, 9674111.617111627, 10246836.962250726, 10129426.587916356, 9924585.906372838, 10070305.104335988, 9993587.468073336, 9974734.846294358, 9517984.355694896, 10053683.96300511, 10047130.141842812, 9837319.800734561, 9909318.599517237, 9842138.118326513, 9600707.93000924, 9867447.250159552, 10015703.860547822, 9651212.93190834, 9674977.405045629, 9658042.037943961, 9899745.016214214, 9609088.535779387, 10140230.582341412, 10099598.070549527, 9602900.010764837, 9660330.534276472, 9861216.963007625, 10018058.46529182, 10123627.379802803, 9714311.929993208, 9907163.704419203, 10086970.605299894, 9605177.652946504, 10050420.895555606, 9634905.42839405, 10048855.72706483, 9955834.947506296, 9995606.2606658, 9998629.305565545, 9613822.47400305, 10220779.788422568, 9811084.018629998, 9968958.307814896, 9569634.058366084, 9841993.287700532, 9997162.536021575, 10253934.911819942, 9576988.790178796, 9755835.79921728, 9988030.853548896, 9545293.27596661, 10164023.525667768, 10169323.55433311, 9892558.050694535, 9650870.016572846, 9828663.213699598, 9868227.232756712, 9766643.420094213, 10109015.80756153, 10198839.772515267, 10089556.390358848, 9739752.348021083, 10066893.660215558, 9995756.037847564, 10060914.902636304, 9699966.673601383, 10048975.327519106, 9728005.351829264, 9898533.656057155, 9855977.098565737, 10155163.470371727, 9744368.345873598, 9889468.02110041, 9840138.857328106, 10024219.271284325, 9741293.658314746, 9850301.632590298, 9633228.568770252, 9686187.281043235, 9932813.034368956, 9762801.688484278, 9902742.133022727, 9637550.444443354, 9622432.867697272, 10124594.844621018, 9876288.358108895, 10084673.862122705, 9687825.538626118, 10060305.668267814, 9786090.340684362, 10260184.641500762, 9954691.311823843, 10156096.3682991, 10014252.911176577, 9873313.460033419, 9897102.959018078, 9996688.19901444, 9618592.701536503, 9964080.992827177, 9772613.485116797, 10199547.935751202, 9921394.430154713, 10096196.024205338, 10113860.471903304, 10114755.814834774, 10049872.251603184, 10270943.173240567, 9571250.726826277, 9693075.608250085, 9601879.741296735, 9631594.53457992, 10287362.017896106, 9925762.515958466, 9604001.748245211, 9951487.128355224, 9683098.469655026, 9979398.131976157, 10057327.733788902, 9959924.571510855, 9817240.27810126, 10034991.93254384, 9920867.51095067, 9970089.812330877, 10087733.806043318, 10187000.29698074, 9950571.464483794, 9899345.985011859, 10175745.501322905, 9942546.18380334, 9968308.747405112, 10262673.524043247, 9634117.554452464, 10220547.731591282, 9848070.337386671, 9562115.243191991, 10117021.346041465, 10220175.078363216, 10175240.34170061, 9787480.839922719, 9529186.158034515, 10169770.149817996, 9936442.446516117, 10227432.58763732, 9954003.110488506, 9645153.864810271, 9719013.858622137, 9742750.610956887, 10109275.67044593, 9641276.951228548, 9883199.072899692, 10057753.740980264, 9682898.57044699, 9843133.421216318, 10007907.786103008, 9737684.116062643, 9742699.717898522, 9772469.664381623, 10116622.339301577, 9849404.600528374, 10158325.686771177, 9983876.258772083, 9927480.984429475, 9935871.191089038, 9696576.522560308, 10012759.891678546, 10038013.355092496, 10140164.386516694, 9995955.121329276, 9794879.517040681, 9921640.341969501, 9648951.948445931, 9632803.537812566, 9607501.976900525, 9830633.531936672, 9978251.655636955, 10121411.684759958, 9785063.104514299, 10017130.271506194, 10179291.735563729, 9671420.767824458, 10108366.294422904, 9841189.247846387, 9844393.039961524, 9806816.90526706, 10112479.952020273, 9856243.236237727, 9838477.261950959, 10211802.598054532, 9867162.67437557, 10048187.666774271, 9913806.46830658, 9989285.947002249, 9947421.50543017, 9561453.586671244, 9771221.759865215, 9601053.777462194, 10052639.259247672, 10100333.986906601, 10052489.047625916, 10191970.58767965, 9803687.250257425, 9850881.631814834, 9694527.007788325, 10187373.008387517, 9937789.481431866, 9942815.414022403, 9969677.494904634, 10045933.674638003, 10085214.822102822, 10119531.054187994, 10107829.888898803, 10062578.016549194, 9802680.533632169, 9890717.167930909, 9843437.837579211, 9944924.520475246, 9815414.386761948, 9783399.407688994, 10012096.42336289, 10023637.194125906, 10212000.997630924, 9590843.058797924, 9894517.169845114, 9904605.115280543, 9649828.494694727, 9990891.313120836, 9814564.898796381, 9803483.532212587, 9722202.202232523, 9843640.516983537, 9928153.488766838, 9750824.282046428, 10137082.337268436, 10072298.641073106, 10208712.06759657, 9642423.744836014, 9591787.138177173, 9914127.277652398, 10287855.70320487, 9803782.604668595, 9635059.77726812, 9972801.450046994, 9979671.052208016, 10054832.197405804, 9903008.179727912, 10081003.705834102, 10053613.40601779, 10024648.219607787, 10216417.374391902, 9925957.785563944, 9872301.13801272, 10026970.80826088, 9982041.546267586, 10097165.561444663, 9820237.94430677, 10097941.302512618, 9939272.298011154, 9921280.836707268, 9593428.440438118, 9781782.401692811, 10107904.654297158, 9948550.648912976, 9896226.020799298, 9965834.625843117, 9688555.584402306, 9516687.659707943, 9719269.931928694, 10244972.347040523, 9720680.534136022, 9712697.597702987, 9744282.822443655, 9924944.759658605, 9707813.791035743, 9834053.420580639, 9820897.54181449, 9965815.286370471, 9915890.155724658, 9532106.371980691, 10018955.244628899, 9723843.600157045, 9951854.174775539, 10079348.07990538, 9855942.219559493, 10012366.11951868, 10136119.770764051, 10104676.215592656, 10041007.845128227, 10057568.358836232, 10085500.190980468, 9791384.591820396, 10145505.609953467, 9700688.556572253, 10067248.826118061, 9599606.752812203, 9650855.186768752, 10145387.409713041, 9745460.751167143, 10155366.531402674, 9812018.247685622, 10073233.37112872, 10020506.659301667, 9973517.932031535, 9833303.072804617, 9963238.949990055, 9609550.819264282, 10177714.50039323, 10197310.258373523, 9760705.531923262, 9725216.235171275, 10064995.405158397, 9650762.728402719, 9559921.795902558]\n",
      "Surrogate mean posterior optimal solution fn error: 3058.02, 0.03%\n"
     ]
    }
   ],
   "source": [
    "print(\"Predicted posterior solution costs: \",preposterior_costs)\n",
    "print(\"Estimates of true posterior solution costs: \",true_posterior_soln_cost)\n",
    "mean_posterior_soln_fn_error = np.mean(np.abs(np.array(true_posterior_soln_cost)-np.array(preposterior_costs)))\n",
    "mean_posterior_soln_fn_error_perc = np.mean((np.abs(np.array(true_posterior_soln_cost)-np.array(preposterior_costs))/np.array(true_posterior_soln_cost))*100)\n",
    "print(f\"Surrogate mean posterior optimal solution fn error: {round(mean_posterior_soln_fn_error,2)}, {round(mean_posterior_soln_fn_error_perc,2)}%\")"
   ]
  },
  {
   "cell_type": "code",
   "execution_count": 22,
   "metadata": {},
   "outputs": [],
   "source": [
    "# Graph posterior solution error results?"
   ]
  },
  {
   "cell_type": "markdown",
   "metadata": {},
   "source": [
    "## Step 4: Report VOI Result"
   ]
  },
  {
   "cell_type": "markdown",
   "metadata": {},
   "source": [
    "We can use the standard error on the pre-posterior cost MC estimate as an error for result reporting."
   ]
  },
  {
   "cell_type": "code",
   "execution_count": 23,
   "metadata": {},
   "outputs": [
    {
     "name": "stdout",
     "output_type": "stream",
     "text": [
      "VOI: 16300.81\n",
      "plus-minus: 8935.06\n"
     ]
    }
   ],
   "source": [
    "print(\"VOI: %s\"%round(prior_cost-preposterior_cost,2))\n",
    "print(\"plus-minus: %s\"%round(np.std(preposterior_costs)/np.sqrt(n_prior_samples),2))"
   ]
  },
  {
   "cell_type": "code",
   "execution_count": 24,
   "metadata": {},
   "outputs": [
    {
     "name": "stdout",
     "output_type": "stream",
     "text": [
      "9931466.329845376 9915165.523735126\n"
     ]
    }
   ],
   "source": [
    "print(prior_cost,preposterior_cost)"
   ]
  },
  {
   "cell_type": "code",
   "execution_count": 25,
   "metadata": {},
   "outputs": [
    {
     "name": "stdout",
     "output_type": "stream",
     "text": [
      "Prior cost check:  9932360.745289566 9931466.329845376\n",
      "Regret based VoI:  17195.22\n"
     ]
    }
   ],
   "source": [
    "print(\"Prior cost check: \",np.mean(prior_soln_performances),prior_cost)\n",
    "print(\"Regret based VoI: \",round((np.mean(prior_soln_performances)-preposterior_cost),2))"
   ]
  },
  {
   "cell_type": "code",
   "execution_count": null,
   "metadata": {},
   "outputs": [],
   "source": []
  }
 ],
 "metadata": {
  "kernelspec": {
   "display_name": "VOI-CAS",
   "language": "python",
   "name": "python3"
  },
  "language_info": {
   "codemirror_mode": {
    "name": "ipython",
    "version": 3
   },
   "file_extension": ".py",
   "mimetype": "text/x-python",
   "name": "python",
   "nbconvert_exporter": "python",
   "pygments_lexer": "ipython3",
   "version": "3.8.17"
  },
  "orig_nbformat": 4
 },
 "nbformat": 4,
 "nbformat_minor": 2
}
