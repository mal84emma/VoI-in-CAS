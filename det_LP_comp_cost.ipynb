{
 "cells": [
  {
   "attachments": {},
   "cell_type": "markdown",
   "metadata": {},
   "source": [
    "# Test computational cost of Stochastic Programming (Scenario Optimisation)"
   ]
  },
  {
   "attachments": {},
   "cell_type": "markdown",
   "metadata": {},
   "source": [
    "Investigate computational complexity and runtime of scnearios optimisation for system design problem, where each scenario uses a realisation of uncertain battery efficiencies."
   ]
  },
  {
   "cell_type": "code",
   "execution_count": 1,
   "metadata": {},
   "outputs": [],
   "source": [
    "import os\n",
    "import csv\n",
    "import json\n",
    "import time\n",
    "import random\n",
    "import numpy as np\n",
    "import matplotlib.pyplot as plt\n",
    "\n",
    "import inspect\n",
    "from tqdm import tqdm\n",
    "from multiprocessing import Pool\n",
    "\n",
    "from citylearn.citylearn import CityLearnEnv\n",
    "from linmodel import LinProgModel\n",
    "from schema_builder import build_schema\n",
    "from sys_eval import evaluate_system"
   ]
  },
  {
   "cell_type": "code",
   "execution_count": 2,
   "metadata": {},
   "outputs": [],
   "source": [
    "# set up test parameters\n",
    "dataset_dir = os.path.join('data', 'A37_analysis_test') # dataset directory\n",
    "schema_path = os.path.join(dataset_dir, 'schema.json')\n",
    "opex_factor = 10\n",
    "pricing_dict = {'carbon':5e-1,'battery':1e3,'solar':2e3}\n",
    "\n",
    "with open(os.path.join(dataset_dir,'metadata_ext.json'),'r') as json_file:\n",
    "    annex_defaults = json.load(json_file)"
   ]
  },
  {
   "cell_type": "code",
   "execution_count": 3,
   "metadata": {},
   "outputs": [],
   "source": [
    "# Set up base parameters of system.\n",
    "ids = [0,3,9,11,12,15,16,25,26,32,38,44,45,48,49]"
   ]
  },
  {
   "cell_type": "code",
   "execution_count": 5,
   "metadata": {},
   "outputs": [
    {
     "name": "stdout",
     "output_type": "stream",
     "text": [
      "2023-08-09 16:37:25\n",
      "# Buildings: 1\n",
      "[1751.25346574] [1056.4815295]\n",
      "Solve time: 17.1s\n",
      "2023-08-09 16:37:42\n",
      "# Buildings: 2\n",
      "[1754.68712609  126.01910736] [1057.63923157   91.93252796]\n",
      "Solve time: 97.4s\n",
      "2023-08-09 16:39:20\n",
      "# Buildings: 3\n",
      "[1754.68712609  126.01910736   26.65207726] [1057.63923157   91.93252796   23.16979028]\n",
      "Solve time: 233.3s\n",
      "2023-08-09 16:43:14\n",
      "# Buildings: 4\n",
      "[1751.25346574  124.62654802   26.64722756  927.73728492] [1056.4815295    91.59964675   23.16979028  661.26134874]\n",
      "Solve time: 472.6s\n",
      "2023-08-09 16:51:07\n",
      "# Buildings: 5\n",
      "[1751.25346574  125.39802019   26.65193204  928.2464427   239.71230186] [1056.4815295    91.73059042   23.17231638  658.87850467  155.0091287 ]\n",
      "Solve time: 779.5s\n",
      "2023-08-09 17:04:08\n",
      "# Buildings: 6\n",
      "[1746.81935754  124.55786909   26.62825556  924.25170666  238.21895761\n",
      "  375.55207824] [1054.98651377   91.45742741   23.16979028  660.15037594  155.40540541\n",
      "  231.99374383]\n",
      "Solve time: 1353.3s\n",
      "2023-08-09 17:26:42\n",
      "# Buildings: 7\n",
      "[1747.59176819  125.81966553   26.64771841  928.05808795  239.42925953\n",
      "  377.01521923  690.58365044] [1068.84422111   92.37175287   23.24561404  661.36359962  157.03201345\n",
      "  235.12781807  576.66666667]\n",
      "Solve time: 2023.7s\n",
      "2023-08-09 18:00:27\n",
      "# Buildings: 8\n",
      "[1745.62537315  125.78579513   26.64666785  928.05808795  238.4874301\n",
      "  376.20786242  690.38118201  572.86699823] [1068.71257485   92.35855215   23.26388889  661.36359962  156.67457557\n",
      "  234.85213483  576.27336699  363.28749034]\n",
      "Solve time: 2846.4s\n",
      "2023-08-09 18:47:55\n",
      "# Buildings: 9\n",
      "[1749.1348087   125.81966553   26.68244631  928.05808795  239.42925953\n",
      "  377.06965015  691.1716913   572.98975524 3513.98111314] [1068.84422111   92.37175287   23.2613614   661.36359962  157.03201345\n",
      "  235.29624526  578.22685789  363.28749034 1953.19665636]\n",
      "Solve time: 4220.9s\n",
      "2023-08-09 19:58:18\n",
      "# Buildings: 10\n",
      "[1748.84814549  125.81966553   26.64771841  927.90576959  239.05804634\n",
      "  376.4995614   690.02969975  572.86699823 3514.4824096   392.84769169] [1068.           92.37175287   23.24561404  661.31505056  156.89113268\n",
      "  235.11111111  576.58227848  363.28749034 1949.54117837  326.33087441]\n",
      "Solve time: 5558.9s\n",
      "2023-08-09 21:30:58\n",
      "# Buildings: 11\n",
      "[1749.47487322  125.81966553   26.64771841  928.05808795  239.12448791\n",
      "  376.4995614   690.02969975  572.86699823 3514.4824096   392.84769169\n",
      "  122.58797979] [1066.85989206   92.37175287   23.24561404  661.36359962  156.91634821\n",
      "  235.11111111  576.58227848  363.28749034 1949.54117837  326.33087441\n",
      "   82.1732452 ]\n",
      "Solve time: 7365.7s\n",
      "2023-08-09 23:33:46\n",
      "# Buildings: 12\n",
      "[1749.92286168  125.81966553   26.64771841  928.05808795  239.48037891\n",
      "  377.08250174  690.38118201  572.86699823 3515.10383793  393.19416235\n",
      "  123.02126263 3273.83574425] [1064.24581006   92.37175287   23.24561404  661.36359962  156.66666667\n",
      "  235.11111111  574.25218721  363.28749034 1949.39113757  326.2267373\n",
      "   81.70212766 1983.55734876]\n",
      "Solve time: 8531.1s\n",
      "2023-08-10 01:55:59\n",
      "# Buildings: 13\n",
      "[1745.83442289  125.44779528   26.64771841  927.73728492  238.32150117\n",
      "  374.93732209  686.02337547  572.5746788  3514.55942481  392.6594454\n",
      "  122.61320259 3273.83574425 3372.70819683] [1060.09615385   92.22681937   23.24561404  661.26134874  156.57680203\n",
      "  234.60377984  576.10619469  363.28749034 1949.18967086  326.25385375\n",
      "   81.70212766 1983.55734876 2257.08789928]\n",
      "Solve time: 9816.1s\n",
      "2023-08-10 04:39:38\n",
      "# Buildings: 14\n",
      "[1750.70932887  125.655299     26.64771841  927.73728492  238.32141449\n",
      "  374.93732209  686.94215982  572.5746788  3514.55942481  392.43562353\n",
      "  122.85601917 3272.40979976 3374.77599241 1373.5098467 ] [1059.65665236   92.30769231   23.24561404  661.26134874  156.61157025\n",
      "  234.60377984  576.10619469  363.28749034 1949.18967086  326.1622774\n",
      "   81.63265306 1982.79881322 2257.08789928 1010.62825106]\n",
      "Solve time: 11815.2s\n",
      "2023-08-10 07:56:36\n",
      "# Buildings: 15\n",
      "[1745.83623699  125.32077498   26.64771841  927.73728492  238.09036275\n",
      "  374.93732209  685.95676175  572.5746788  3514.55942481  392.22382235\n",
      "  122.66674667 3272.40979976 3373.58517241 1372.85783877  145.82448211] [1059.25989722   92.17731421   23.24561404  661.26134874  156.52388278\n",
      "  234.60377984  576.58227848  363.28749034 1949.18967086  326.0756193\n",
      "   81.62982948 1982.79881322 2257.08789928 1010.44393991  110.55058779]\n",
      "Solve time: 14432.8s\n"
     ]
    }
   ],
   "source": [
    "num_buildings = range(1,len(ids)+1)\n",
    "runtimes = {}\n",
    "\n",
    "for B in num_buildings:\n",
    "    print(time.strftime(\"%Y-%m-%d %H:%M:%S\", time.localtime()))\n",
    "    print(f\"# Buildings: {B}\")\n",
    "\n",
    "    base_kwargs = {\n",
    "            'output_dir_path':dataset_dir,\n",
    "            'building_names': ['UCam_Building_%s'%id for id in ids][:B],\n",
    "            'battery_energy_capacities': [annex_defaults[\"building_attributes\"][\"battery_energy_capacities (kWh)\"][str(id)] for id in ids][:B],\n",
    "            'battery_power_capacities': [annex_defaults[\"building_attributes\"][\"battery_power_capacities (kW)\"][str(id)] for id in ids][:B],\n",
    "            'battery_efficiencies': [0.85]*B,\n",
    "            'pv_power_capacities': [annex_defaults[\"building_attributes\"][\"pv_power_capacities (kW)\"][str(id)] for id in ids][:B],\n",
    "            'load_data_paths': ['UCam_Building_%s.csv'%id for id in ids][:B],\n",
    "            'weather_data_path': 'weather.csv',\n",
    "            'carbon_intensity_data_path': 'carbon_intensity.csv',\n",
    "            'pricing_data_path': 'pricing.csv',\n",
    "            'schema_name': 'schema_temp'\n",
    "        }\n",
    "\n",
    "    schema_path = build_schema(**base_kwargs)\n",
    "\n",
    "    # Initialise CityLearn environment object.\n",
    "    env = CityLearnEnv(schema=schema_path)\n",
    "    lp = LinProgModel(env=env)\n",
    "\n",
    "    lp.set_time_data_from_envs()\n",
    "    lp.generate_LP(clip_level='m',design=True,pricing_dict=pricing_dict,opex_factor=opex_factor)\n",
    "    lp.set_LP_parameters()\n",
    "\n",
    "    start = time.time()\n",
    "    lp_results = lp.solve_LP(verbose=False,ignore_dpp=True)\n",
    "    end = time.time()\n",
    "\n",
    "    print(lp_results['battery_capacities'],lp_results['solar_capacities'])\n",
    "\n",
    "    runtimes.update({B: end-start})\n",
    "    print(f\"Solve time: {round(runtimes[B],1)}s\")"
   ]
  },
  {
   "cell_type": "code",
   "execution_count": 6,
   "metadata": {},
   "outputs": [
    {
     "name": "stdout",
     "output_type": "stream",
     "text": [
      "{1: 17.130981922149658, 2: 97.37760543823242, 3: 233.32676362991333, 4: 472.6319968700409, 5: 779.5362808704376, 6: 1353.336327791214, 7: 2023.7432000637054, 8: 2846.3628962039948, 9: 4220.939216852188, 10: 5558.859155893326, 11: 7365.732852458954, 12: 8531.051749706268, 13: 9816.090405464172, 14: 11815.228953361511, 15: 14432.782981157303}\n"
     ]
    }
   ],
   "source": [
    "print(runtimes)"
   ]
  },
  {
   "cell_type": "code",
   "execution_count": 7,
   "metadata": {},
   "outputs": [
    {
     "name": "stdout",
     "output_type": "stream",
     "text": [
      "[2.51541373 2.75738424]\n"
     ]
    }
   ],
   "source": [
    "# Fit linear trend to log(runtime)\n",
    "trend = np.polyfit(np.log(list(runtimes.keys())),np.log(list(runtimes.values())),deg=1)\n",
    "print(trend)"
   ]
  },
  {
   "cell_type": "code",
   "execution_count": 8,
   "metadata": {},
   "outputs": [
    {
     "name": "stdout",
     "output_type": "stream",
     "text": [
      "58.11777295433248\n"
     ]
    }
   ],
   "source": [
    "# Find max allowable samples\n",
    "runtime_limit = 60*60*24*5\n",
    "scenarios_limit = np.exp((np.log(runtime_limit) - trend[1])/trend[0])\n",
    "print(scenarios_limit)"
   ]
  },
  {
   "cell_type": "code",
   "execution_count": 9,
   "metadata": {},
   "outputs": [],
   "source": [
    "from labellines import labelLines"
   ]
  },
  {
   "cell_type": "code",
   "execution_count": 21,
   "metadata": {},
   "outputs": [
    {
     "data": {
      "image/png": "[encoded data removed]",
      "text/plain": [
       "<Figure size 640x480 with 1 Axes>"
      ]
     },
     "metadata": {},
     "output_type": "display_data"
    }
   ],
   "source": [
    "# Plot computational time results\n",
    "max_scenarios = 30\n",
    "\n",
    "fig,ax = plt.subplots()\n",
    "ax.plot(runtimes.keys(),runtimes.values(),'ok')\n",
    "ax.plot(np.arange(1,max_scenarios+1),np.exp(np.log(np.arange(1,max_scenarios+1))*trend[0] + trend[1]),'k--',label=round(trend[0],2))\n",
    "plt.xlabel(\"Number of buildings\")\n",
    "plt.xscale('log')\n",
    "plt.ylabel('LP Solve Time (s)')\n",
    "plt.yscale('log')\n",
    "plt.xlim(0.9,30)\n",
    "plt.ylim(10,1e5)\n",
    "plt.grid(True,'major',alpha=0.5,linestyle='--')\n",
    "labelLines(ax.get_lines(),xvals=[20], fontsize=10, backgroundcolor='w')\n",
    "plt.show()"
   ]
  },
  {
   "cell_type": "code",
   "execution_count": null,
   "metadata": {},
   "outputs": [],
   "source": []
  }
 ],
 "metadata": {
  "kernelspec": {
   "display_name": "VOI-CAS",
   "language": "python",
   "name": "python3"
  },
  "language_info": {
   "codemirror_mode": {
    "name": "ipython",
    "version": 3
   },
   "file_extension": ".py",
   "mimetype": "text/x-python",
   "name": "python",
   "nbconvert_exporter": "python",
   "pygments_lexer": "ipython3",
   "version": "3.8.16"
  },
  "orig_nbformat": 4
 },
 "nbformat": 4,
 "nbformat_minor": 2
}
