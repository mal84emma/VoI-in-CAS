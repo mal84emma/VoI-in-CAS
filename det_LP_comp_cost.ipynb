{
 "cells": [
  {
   "attachments": {},
   "cell_type": "markdown",
   "metadata": {},
   "source": [
    "# Test computational cost of Stochastic Programming (Scenario Optimisation)"
   ]
  },
  {
   "attachments": {},
   "cell_type": "markdown",
   "metadata": {},
   "source": [
    "Investigate computational complexity and runtime of scnearios optimisation for system design problem, where each scenario uses a realisation of uncertain battery efficiencies."
   ]
  },
  {
   "cell_type": "code",
   "execution_count": 1,
   "metadata": {},
   "outputs": [],
   "source": [
    "import os\n",
    "import csv\n",
    "import json\n",
    "import time\n",
    "import random\n",
    "import numpy as np\n",
    "import matplotlib.pyplot as plt\n",
    "\n",
    "import inspect\n",
    "from tqdm import tqdm\n",
    "from multiprocessing import Pool\n",
    "\n",
    "from citylearn.citylearn import CityLearnEnv\n",
    "from linmodel import LinProgModel\n",
    "from schema_builder import build_schema\n",
    "from sys_eval import evaluate_system"
   ]
  },
  {
   "cell_type": "code",
   "execution_count": 2,
   "metadata": {},
   "outputs": [],
   "source": [
    "# set up test parameters\n",
    "dataset_dir = os.path.join('A37_analysis_test') # dataset directory\n",
    "schema_path = os.path.join('data', dataset_dir, 'schema.json')\n",
    "opex_factor = 10\n",
    "pricing_dict = {'carbon':5e-1,'battery':1e3,'solar':2e3}\n",
    "\n",
    "with open(os.path.join(dataset_dir,'metadata_ext.json'),'r') as json_file:\n",
    "    annex_defaults = json.load(json_file)"
   ]
  },
  {
   "cell_type": "code",
   "execution_count": 3,
   "metadata": {},
   "outputs": [],
   "source": [
    "# Set up base parameters of system.\n",
    "ids = [0,3,9,11,12,15,16,25,26,32,38,44,45,48,49]"
   ]
  },
  {
   "cell_type": "code",
   "execution_count": 4,
   "metadata": {},
   "outputs": [
    {
     "name": "stdout",
     "output_type": "stream",
     "text": [
      "# Buildings: 1\n",
      "[1101.16297146] [788.62322391]\n",
      "Solve time: 9.8s\n",
      "# Buildings: 2\n",
      "[1098.18609437  925.01175676] [786.73055895 660.39262986]\n",
      "Solve time: 52.1s\n",
      "# Buildings: 3\n",
      "[1091.31721299  920.09116263  826.25440659] [783.83661241 658.82426851 649.77327809]\n",
      "Solve time: 169.0s\n",
      "# Buildings: 4\n",
      "[1096.33171439  922.8108577   826.8302492   683.9817335 ] [785.91060074 659.69112818 650.0087943  580.68120778]\n",
      "Solve time: 307.9s\n",
      "# Buildings: 5\n",
      "[1094.77526954  922.8108577   826.62422388  686.24179945 2014.16602502] [ 785.22238164  659.69112818  649.27857646  574.54513298 1305.01112786]\n",
      "Solve time: 482.4s\n",
      "# Buildings: 6\n",
      "[1093.78565858  923.113263    826.31701093  686.24179945 2011.92763392\n",
      " 1636.63884428] [ 784.78480161  659.78751507  649.5834151   574.54513298 1304.40792885\n",
      " 1113.88423435]\n",
      "Solve time: 745.4s\n"
     ]
    }
   ],
   "source": [
    "num_buildings = range(1,len(ids)+1)\n",
    "runtimes = {}\n",
    "\n",
    "for B in num_buildings:\n",
    "    print(f\"# Buildings: {B}\")\n",
    "\n",
    "    base_kwargs = {\n",
    "            'output_dir_path': os.path.join('data','A37_example_test'),\n",
    "            'building_names': ['UCam_Building_%s'%id for id in ids][:B],\n",
    "            'battery_energy_capacities': [annex_defaults[\"building_attributes\"][\"battery_energy_capacities (kWh)\"][str(id)] for id in ids][:B],\n",
    "            'battery_power_capacities': [annex_defaults[\"building_attributes\"][\"battery_power_capacities (kW)\"][str(id)] for id in ids][:B],\n",
    "            'battery_efficiencies': [0.85]*B,\n",
    "            'pv_power_capacities': [annex_defaults[\"building_attributes\"][\"pv_power_capacities (kW)\"][str(id)] for id in ids][:B],\n",
    "            'load_data_paths': ['UCam_Building_%s.csv'%id for id in ids][:B],\n",
    "            'weather_data_path': 'weather.csv',\n",
    "            'carbon_intensity_data_path': 'carbon_intensity.csv',\n",
    "            'pricing_data_path': 'pricing.csv',\n",
    "            'schema_name': 'schema_temp'\n",
    "        }\n",
    "\n",
    "    schema_path = build_schema(**base_kwargs)\n",
    "\n",
    "    # Initialise CityLearn environment object.\n",
    "    env = CityLearnEnv(schema=schema_path)\n",
    "    lp = LinProgModel(env=env)\n",
    "\n",
    "    lp.set_time_data_from_envs()\n",
    "    lp.generate_LP(clip_level='m',design=True,pricing_dict=pricing_dict,opex_factor=opex_factor)\n",
    "    lp.set_LP_parameters()\n",
    "\n",
    "    start = time.time()\n",
    "    lp_results = lp.solve_LP(verbose=False,ignore_dpp=True)\n",
    "    end = time.time()\n",
    "\n",
    "    print(lp_results['battery_capacities'],lp_results['solar_capacities'])\n",
    "\n",
    "    runtimes.update({B: end-start})\n",
    "    print(f\"Solve time: {round(runtimes[B],1)}s\")"
   ]
  },
  {
   "cell_type": "code",
   "execution_count": 5,
   "metadata": {},
   "outputs": [
    {
     "name": "stdout",
     "output_type": "stream",
     "text": [
      "[2.43446182 2.31124001]\n"
     ]
    }
   ],
   "source": [
    "# Fit linear trend to log(runtime)\n",
    "trend = np.polyfit(np.log(list(runtimes.keys())),np.log(list(runtimes.values())),deg=1)\n",
    "print(trend)"
   ]
  },
  {
   "cell_type": "code",
   "execution_count": 6,
   "metadata": {},
   "outputs": [
    {
     "name": "stdout",
     "output_type": "stream",
     "text": [
      "79.90358678511154\n"
     ]
    }
   ],
   "source": [
    "# Find max allowable samples\n",
    "runtime_limit = 60*60*24*5\n",
    "scenarios_limit = np.exp((np.log(runtime_limit) - trend[1])/trend[0])\n",
    "print(scenarios_limit)"
   ]
  },
  {
   "cell_type": "code",
   "execution_count": 8,
   "metadata": {},
   "outputs": [
    {
     "data": {
      "image/png": "[encoded data removed]",
      "text/plain": [
       "<Figure size 640x480 with 1 Axes>"
      ]
     },
     "metadata": {},
     "output_type": "display_data"
    }
   ],
   "source": [
    "# Plot computational time results\n",
    "max_scenarios = 25\n",
    "\n",
    "plt.plot(runtimes.keys(),runtimes.values(),'ok')\n",
    "plt.plot(np.arange(1,max_scenarios+1),np.exp(np.log(np.arange(1,max_scenarios+1))*trend[0] + trend[1]),'k--')\n",
    "plt.xlabel(\"Number of buildings\")\n",
    "plt.xscale('log')\n",
    "plt.ylabel('LP Solve Time (s)')\n",
    "plt.yscale('log')\n",
    "plt.xlim(0.9,max_scenarios*1.1)\n",
    "plt.ylim(7)\n",
    "plt.grid(True,'major',alpha=0.5,linestyle='--')\n",
    "plt.show()"
   ]
  },
  {
   "cell_type": "code",
   "execution_count": null,
   "metadata": {},
   "outputs": [],
   "source": []
  }
 ],
 "metadata": {
  "kernelspec": {
   "display_name": "VOI-CAS",
   "language": "python",
   "name": "python3"
  },
  "language_info": {
   "codemirror_mode": {
    "name": "ipython",
    "version": 3
   },
   "file_extension": ".py",
   "mimetype": "text/x-python",
   "name": "python",
   "nbconvert_exporter": "python",
   "pygments_lexer": "ipython3",
   "version": "3.8.16"
  },
  "orig_nbformat": 4
 },
 "nbformat": 4,
 "nbformat_minor": 2
}
