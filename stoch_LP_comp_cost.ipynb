{
 "cells": [
  {
   "attachments": {},
   "cell_type": "markdown",
   "metadata": {},
   "source": [
    "# Test computational cost of Stochastic Programming (Scenario Optimisation)"
   ]
  },
  {
   "attachments": {},
   "cell_type": "markdown",
   "metadata": {},
   "source": [
    "Investigate computational complexity and runtime of scnearios optimisation for system design problem, where each scenario uses a realisation of uncertain battery efficiencies."
   ]
  },
  {
   "cell_type": "code",
   "execution_count": 1,
   "metadata": {},
   "outputs": [],
   "source": [
    "import os\n",
    "import csv\n",
    "import json\n",
    "import time\n",
    "import random\n",
    "import numpy as np\n",
    "import matplotlib.pyplot as plt\n",
    "\n",
    "import inspect\n",
    "from tqdm import tqdm\n",
    "from multiprocessing import Pool\n",
    "\n",
    "from citylearn.citylearn import CityLearnEnv\n",
    "from linmodel import LinProgModel\n",
    "from schema_builder import build_schema\n",
    "from sys_eval import evaluate_system"
   ]
  },
  {
   "cell_type": "code",
   "execution_count": 2,
   "metadata": {},
   "outputs": [],
   "source": [
    "# set up test parameters\n",
    "dataset_dir = os.path.join('data','A37_analysis_test') # dataset directory\n",
    "schema_path = os.path.join(dataset_dir, 'schema.json')\n",
    "opex_factor = 10\n",
    "pricing_dict = {'carbon':5e-1,'battery':1e3,'solar':2e3}\n",
    "\n",
    "with open(os.path.join(dataset_dir,'metadata_ext.json'),'r') as json_file:\n",
    "    annex_defaults = json.load(json_file)"
   ]
  },
  {
   "cell_type": "code",
   "execution_count": 3,
   "metadata": {},
   "outputs": [],
   "source": [
    "# Set up base parameters of system.\n",
    "ids = [0,3,9,11,12,15,16,25,26,32,38,44,45,48,49]"
   ]
  },
  {
   "cell_type": "code",
   "execution_count": 4,
   "metadata": {},
   "outputs": [],
   "source": [
    "# Set up probabilistic model of effiencies and take draws\n",
    "n_draws = 100\n",
    "mu = 0.85\n",
    "sigma = 0.1\n",
    "eta_samples = np.random.normal(loc=mu,scale=sigma,size=(n_draws,len(ids)))\n",
    "eta_samples = np.clip(eta_samples,0,1)"
   ]
  },
  {
   "cell_type": "code",
   "execution_count": 5,
   "metadata": {},
   "outputs": [
    {
     "name": "stdout",
     "output_type": "stream",
     "text": [
      "# Scenarios: 1\n",
      "[1771.89128764] [1074.14965986]\n",
      "Solve time: 17.2s\n",
      "# Scenarios: 2\n",
      "[1772.80167196] [1070.66784388]\n",
      "Solve time: 74.5s\n",
      "# Scenarios: 3\n",
      "[1764.09498902] [1068.42692836]\n",
      "Solve time: 178.2s\n",
      "# Scenarios: 5\n",
      "[1757.18543705] [1061.35009181]\n",
      "Solve time: 577.3s\n",
      "# Scenarios: 8\n",
      "[1766.67841501] [1069.92058092]\n",
      "Solve time: 1317.7s\n",
      "# Scenarios: 10\n",
      "[1760.00158454] [1068.71257485]\n",
      "Solve time: 2194.1s\n",
      "# Scenarios: 20\n",
      "[1756.34964271] [1060.433294]\n",
      "Solve time: 10647.3s\n",
      "# Scenarios: 1\n",
      "[1766.41573866  132.56483915] [1071.13022597   91.72373969]\n",
      "Solve time: 92.1s\n",
      "# Scenarios: 2\n",
      "[1772.64845926  124.63473435] [1070.56094079   91.53898127]\n",
      "Solve time: 413.7s\n",
      "# Scenarios: 3\n",
      "[1764.09498902  126.69103765] [1066.21621622   91.43961313]\n",
      "Solve time: 1110.3s\n",
      "# Scenarios: 5\n",
      "[1757.87828829  123.98024153] [1061.60190009   91.36327943]\n",
      "Solve time: 3837.1s\n",
      "# Scenarios: 8\n",
      "[1766.42756125  124.35725325] [1069.81981982   91.5755316 ]\n",
      "Solve time: 9270.6s\n",
      "# Scenarios: 10\n",
      "[1760.76201174  124.63377823] [1068.71257485   91.61073826]\n",
      "Solve time: 16604.8s\n",
      "# Scenarios: 1\n",
      "[1772.39579943  132.56483915   27.94630269] [1070.63829787   91.72373969   23.40425532]\n",
      "Solve time: 213.9s\n",
      "# Scenarios: 2\n",
      "[1772.5781768   124.35725325   30.9283554 ] [1070.51190169   91.5755316    23.85346849]\n",
      "Solve time: 1083.1s\n",
      "# Scenarios: 3\n",
      "[1763.54528474  125.92627942   30.05220334] [1066.50446832   91.53410604   23.63468079]\n",
      "Solve time: 2879.7s\n",
      "# Scenarios: 5\n",
      "[1757.87828829  123.67395855   29.69783897] [1061.60190009   91.32231405   23.57769188]\n",
      "Solve time: 10384.4s\n"
     ]
    }
   ],
   "source": [
    "num_scenarios = [1,2,3,5,8,10,20]\n",
    "num_buildings = [1,2,3]\n",
    "\n",
    "buildings_results = {}\n",
    "\n",
    "for B in num_buildings:\n",
    "    runtimes = {}\n",
    "    for M in num_scenarios:\n",
    "        if B*M <= 20:\n",
    "            print(f\"# Scenarios: {M}\")\n",
    "\n",
    "            base_kwargs = {\n",
    "                'output_dir_path': dataset_dir,\n",
    "                'building_names': ['UCam_Building_%s'%id for id in ids][:B],\n",
    "                'battery_energy_capacities': [annex_defaults[\"building_attributes\"][\"battery_energy_capacities (kWh)\"][str(id)] for id in ids][:B],\n",
    "                'battery_power_capacities': [annex_defaults[\"building_attributes\"][\"battery_power_capacities (kW)\"][str(id)] for id in ids][:B],\n",
    "                'battery_efficiencies': None,\n",
    "                'pv_power_capacities': [annex_defaults[\"building_attributes\"][\"pv_power_capacities (kW)\"][str(id)] for id in ids][:B],\n",
    "                'load_data_paths': ['UCam_Building_%s.csv'%id for id in ids][:B],\n",
    "                'weather_data_path': 'weather.csv',\n",
    "                'carbon_intensity_data_path': 'carbon_intensity.csv',\n",
    "                'pricing_data_path': 'pricing.csv',\n",
    "                'schema_name': 'schema_temp'\n",
    "            }\n",
    "\n",
    "            envs = []\n",
    "\n",
    "            etas = [eta_samples[k] for k in range(M)] # get M samples\n",
    "\n",
    "            for m in range(M):\n",
    "                # Build schema.\n",
    "                base_kwargs.update({\n",
    "                        'battery_efficiencies': etas[m][:B]\n",
    "                    })\n",
    "                schema_path = build_schema(**base_kwargs)\n",
    "\n",
    "                # Initialise CityLearn environment object.\n",
    "                envs.append(CityLearnEnv(schema=schema_path))\n",
    "\n",
    "                if m == 0: # initialise lp object\n",
    "                    lp = LinProgModel(env=envs[m])\n",
    "                else:\n",
    "                    lp.add_env(env=envs[m])\n",
    "\n",
    "            lp.set_time_data_from_envs()\n",
    "            lp.generate_LP(clip_level='m',design=True,pricing_dict=pricing_dict,opex_factor=opex_factor)\n",
    "            lp.set_LP_parameters()\n",
    "\n",
    "            start = time.time()\n",
    "            lp_results = lp.solve_LP(verbose=False,ignore_dpp=True)\n",
    "            end = time.time()\n",
    "\n",
    "            print(lp_results['battery_capacities'],lp_results['solar_capacities'])\n",
    "\n",
    "            runtimes.update({M: end-start})\n",
    "            print(f\"Solve time: {round(runtimes[M],1)}s\")\n",
    "\n",
    "    buildings_results[B] = runtimes"
   ]
  },
  {
   "cell_type": "code",
   "execution_count": 6,
   "metadata": {},
   "outputs": [
    {
     "name": "stdout",
     "output_type": "stream",
     "text": [
      "{1: {1: 17.16469669342041, 2: 74.52121257781982, 3: 178.18805408477783, 5: 577.2720377445221, 8: 1317.6525468826294, 10: 2194.139812707901, 20: 10647.31181550026}, 2: {1: 92.13854360580444, 2: 413.65667963027954, 3: 1110.2997913360596, 5: 3837.105715274811, 8: 9270.57693529129, 10: 16604.82780480385}, 3: {1: 213.853595495224, 2: 1083.104556798935, 3: 2879.7426328659058, 5: 10384.434494495392}}\n"
     ]
    }
   ],
   "source": [
    "print(buildings_results)"
   ]
  },
  {
   "cell_type": "code",
   "execution_count": 7,
   "metadata": {},
   "outputs": [
    {
     "name": "stdout",
     "output_type": "stream",
     "text": [
      "{1: array([2.12936634, 2.84185145]), 2: array([2.25679832, 4.51667858]), 3: array([2.40916065, 5.34309176])}\n"
     ]
    }
   ],
   "source": [
    "# Fit linear trend to log(runtime)\n",
    "trends = {B: np.polyfit(np.log(list(buildings_results[B].keys())),np.log(list(buildings_results[B].values())),deg=1) for B in num_buildings}\n",
    "print(trends)"
   ]
  },
  {
   "cell_type": "code",
   "execution_count": 8,
   "metadata": {},
   "outputs": [
    {
     "name": "stdout",
     "output_type": "stream",
     "text": [
      "116.66621598394657\n"
     ]
    }
   ],
   "source": [
    "# Find max allowable samples\n",
    "runtime_limit = 60*60*24*5\n",
    "scenarios_limit = np.exp((np.log(runtime_limit) - trends[1][1])/trends[1][0])\n",
    "print(scenarios_limit)"
   ]
  },
  {
   "cell_type": "code",
   "execution_count": 15,
   "metadata": {},
   "outputs": [],
   "source": [
    "from labellines import labelLines"
   ]
  },
  {
   "cell_type": "code",
   "execution_count": 44,
   "metadata": {},
   "outputs": [
    {
     "name": "stderr",
     "output_type": "stream",
     "text": [
      "c:\\Users\\mal84\\.conda\\envs\\VOI-CAS\\lib\\site-packages\\labellines\\core.py:151: UserWarning: Tried to label line Line2D(_child0), but could not find a label for it.\n",
      "  warnings.warn(\n",
      "c:\\Users\\mal84\\.conda\\envs\\VOI-CAS\\lib\\site-packages\\labellines\\core.py:151: UserWarning: Tried to label line Line2D(_child2), but could not find a label for it.\n",
      "  warnings.warn(\n",
      "c:\\Users\\mal84\\.conda\\envs\\VOI-CAS\\lib\\site-packages\\labellines\\core.py:151: UserWarning: Tried to label line Line2D(_child4), but could not find a label for it.\n",
      "  warnings.warn(\n",
      "C:\\Users\\mal84\\AppData\\Local\\Temp\\ipykernel_69176\\1610368137.py:20: UserWarning: The label '_nolegend_' of <matplotlib.lines.Line2D object at 0x000001D01BB76340> starts with '_'. It is thus excluded from the legend.\n",
      "  ax.legend(labels=[item for t in zip(['_nolegend_']*len(num_buildings),num_buildings) for item in t],title=\"No. Buildings\")\n",
      "C:\\Users\\mal84\\AppData\\Local\\Temp\\ipykernel_69176\\1610368137.py:20: UserWarning: The label '_nolegend_' of <matplotlib.lines.Line2D object at 0x000001D2B5C62EB0> starts with '_'. It is thus excluded from the legend.\n",
      "  ax.legend(labels=[item for t in zip(['_nolegend_']*len(num_buildings),num_buildings) for item in t],title=\"No. Buildings\")\n",
      "C:\\Users\\mal84\\AppData\\Local\\Temp\\ipykernel_69176\\1610368137.py:20: UserWarning: The label '_nolegend_' of <matplotlib.lines.Line2D object at 0x000001D2B5C62310> starts with '_'. It is thus excluded from the legend.\n",
      "  ax.legend(labels=[item for t in zip(['_nolegend_']*len(num_buildings),num_buildings) for item in t],title=\"No. Buildings\")\n"
     ]
    },
    {
     "data": {
      "image/png": "[encoded data removed]",
      "text/plain": [
       "<Figure size 640x480 with 1 Axes>"
      ]
     },
     "metadata": {},
     "output_type": "display_data"
    }
   ],
   "source": [
    "# Plot computational time results\n",
    "lss = ['-','--',':']\n",
    "max_scenarios = 25\n",
    "\n",
    "lines=[]\n",
    "\n",
    "fig,ax = plt.subplots()\n",
    "for i,B in enumerate(num_buildings):\n",
    "    ax.plot(buildings_results[B].keys(),buildings_results[B].values(),'ok')\n",
    "    line = ax.plot(np.arange(1,max_scenarios+1),np.exp(np.log(np.arange(1,max_scenarios+1))*trends[B][0] + trends[B][1]),c='k',ls=lss[i],label=f\"{round(trends[B][0],2)}\")\n",
    "    lines.append(line)\n",
    "plt.xlabel(\"Number of scenarios\")\n",
    "plt.xscale('log')\n",
    "plt.ylabel('LP Solve Time (s)')\n",
    "plt.yscale('log')\n",
    "plt.xlim(0.9,max_scenarios*1.1)\n",
    "plt.ylim(10)\n",
    "plt.grid(True,'major',alpha=0.5,linestyle='--')\n",
    "labelLines(ax.get_lines(),xvals=[20,15,10], fontsize=10, backgroundcolor='w')\n",
    "ax.legend(labels=[item for t in zip(['_nolegend_']*len(num_buildings),num_buildings) for item in t],title=\"No. Buildings\")\n",
    "plt.show()"
   ]
  },
  {
   "cell_type": "code",
   "execution_count": null,
   "metadata": {},
   "outputs": [],
   "source": []
  }
 ],
 "metadata": {
  "kernelspec": {
   "display_name": "VOI-CAS",
   "language": "python",
   "name": "python3"
  },
  "language_info": {
   "codemirror_mode": {
    "name": "ipython",
    "version": 3
   },
   "file_extension": ".py",
   "mimetype": "text/x-python",
   "name": "python",
   "nbconvert_exporter": "python",
   "pygments_lexer": "ipython3",
   "version": "3.8.16"
  },
  "orig_nbformat": 4
 },
 "nbformat": 4,
 "nbformat_minor": 2
}
