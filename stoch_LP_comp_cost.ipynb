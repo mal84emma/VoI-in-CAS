{
 "cells": [
  {
   "attachments": {},
   "cell_type": "markdown",
   "metadata": {},
   "source": [
    "# Test computational cost of Stochastic Programming (Scenario Optimisation)"
   ]
  },
  {
   "attachments": {},
   "cell_type": "markdown",
   "metadata": {},
   "source": [
    "Investigate computational complexity and runtime of scnearios optimisation for system design problem, where each scenario uses a realisation of uncertain battery efficiencies."
   ]
  },
  {
   "cell_type": "code",
   "execution_count": 1,
   "metadata": {},
   "outputs": [],
   "source": [
    "import os\n",
    "import csv\n",
    "import time\n",
    "import random\n",
    "import numpy as np\n",
    "import matplotlib.pyplot as plt\n",
    "\n",
    "import inspect\n",
    "from tqdm import tqdm\n",
    "from multiprocessing import Pool\n",
    "\n",
    "from citylearn.citylearn import CityLearnEnv\n",
    "from linmodel import LinProgModel\n",
    "from schema_builder import build_schema\n",
    "from sys_eval import evaluate_system"
   ]
  },
  {
   "cell_type": "code",
   "execution_count": 2,
   "metadata": {},
   "outputs": [],
   "source": [
    "# set up test parameters\n",
    "dataset_dir = os.path.join('A37_example_test') # dataset directory\n",
    "schema_path = os.path.join('data', dataset_dir, 'schema.json')\n",
    "opex_factor = 10\n",
    "pricing_dict = {'carbon':5e-1,'battery':1e3,'solar':2e3}"
   ]
  },
  {
   "cell_type": "code",
   "execution_count": 3,
   "metadata": {},
   "outputs": [],
   "source": [
    "# Set up base parameters of system.\n",
    "ids = [5,11,14,16,24,29]"
   ]
  },
  {
   "cell_type": "code",
   "execution_count": 4,
   "metadata": {},
   "outputs": [],
   "source": [
    "# Set up probabilistic model of effiencies and take draws\n",
    "n_draws = 100\n",
    "mu = 0.85\n",
    "sigma = 0.1\n",
    "eta_samples = np.random.normal(loc=mu,scale=sigma,size=(n_draws,len(ids)))\n",
    "eta_samples = np.clip(eta_samples,0,1)"
   ]
  },
  {
   "cell_type": "code",
   "execution_count": 5,
   "metadata": {},
   "outputs": [
    {
     "name": "stdout",
     "output_type": "stream",
     "text": [
      "# Scenarios: 1\n",
      "[1104.34841772] [782.59717503]\n",
      "Solve time: 9.4s\n",
      "# Scenarios: 2\n",
      "[1099.0141388] [790.78421311]\n",
      "Solve time: 43.3s\n",
      "# Scenarios: 1\n",
      "[1102.59844793  928.47666816] [779.3160335  661.81757732]\n",
      "Solve time: 49.6s\n",
      "# Scenarios: 2\n",
      "[1087.72459742  928.68318768] [787.37579888 649.01273277]\n",
      "Solve time: 188.8s\n",
      "# Scenarios: 1\n",
      "[1098.46254943  926.63458704  829.47334778] [777.77176258 661.00937656 641.38770178]\n",
      "Solve time: 176.9s\n",
      "# Scenarios: 2\n",
      "[1084.69500849  927.56931472  825.71933546] [786.43410853 647.70992366 653.96825397]\n",
      "Solve time: 686.7s\n"
     ]
    }
   ],
   "source": [
    "#num_scenarios = [1,2,3,5,8,10,15,20,25]\n",
    "num_scenarios = [1,2]\n",
    "num_buildings = [1,2,3]\n",
    "\n",
    "buildings_results = {}\n",
    "\n",
    "for B in num_buildings:\n",
    "    runtimes = {}\n",
    "    for M in num_scenarios:\n",
    "        if B*M <= 30:\n",
    "            print(f\"# Scenarios: {M}\")\n",
    "\n",
    "            base_kwargs = {\n",
    "                'output_dir_path': os.path.join('data','A37_example_test'),\n",
    "                'building_names': ['UCam_Building_%s'%id for id in ids][:B],\n",
    "                'battery_energy_capacities': [3127.0,2736.0,2746.0,2448.0,4788.0,4565.0][:B], # from Annex 37\n",
    "                'battery_power_capacities': [391.0,342.0,343.0,306.0,598.0,571.0][:B], # from Annex 37\n",
    "                'battery_efficiencies': None,\n",
    "                'pv_power_capacities': [178.0,41.0,57.0,120.0,1349.0,257.0][:B], # from Annex 37\n",
    "                'load_data_paths': ['UCam_Building_%s.csv'%id for id in ids][:B],\n",
    "                'weather_data_path': 'weather.csv',\n",
    "                'carbon_intensity_data_path': 'carbon_intensity.csv',\n",
    "                'pricing_data_path': 'pricing.csv',\n",
    "                'schema_name': 'schema_temp'\n",
    "            }\n",
    "\n",
    "            envs = []\n",
    "\n",
    "            etas = [eta_samples[k] for k in range(M)] # get M samples\n",
    "\n",
    "            for m in range(M):\n",
    "                # Build schema.\n",
    "                base_kwargs.update({\n",
    "                        'battery_efficiencies': etas[m][:B]\n",
    "                    })\n",
    "                schema_path = build_schema(**base_kwargs)\n",
    "\n",
    "                # Initialise CityLearn environment object.\n",
    "                envs.append(CityLearnEnv(schema=schema_path))\n",
    "\n",
    "                if m == 0: # initialise lp object\n",
    "                    lp = LinProgModel(env=envs[m])\n",
    "                else:\n",
    "                    lp.add_env(env=envs[m])\n",
    "\n",
    "            lp.set_time_data_from_envs()\n",
    "            lp.generate_LP(clip_level='m',design=True,pricing_dict=pricing_dict,opex_factor=opex_factor)\n",
    "            lp.set_LP_parameters()\n",
    "\n",
    "            start = time.time()\n",
    "            lp_results = lp.solve_LP(verbose=False,ignore_dpp=True)\n",
    "            end = time.time()\n",
    "\n",
    "            print(lp_results['battery_capacities'],lp_results['solar_capacities'])\n",
    "\n",
    "            runtimes.update({M: end-start})\n",
    "            print(f\"Solve time: {round(runtimes[M],1)}s\")\n",
    "\n",
    "    buildings_results[B] = runtimes"
   ]
  },
  {
   "cell_type": "code",
   "execution_count": 6,
   "metadata": {},
   "outputs": [
    {
     "name": "stdout",
     "output_type": "stream",
     "text": [
      "{1: array([2.19860919, 2.24460754]), 2: array([1.93012184, 3.90304801]), 3: array([1.9566281 , 5.17567689])}\n"
     ]
    }
   ],
   "source": [
    "# Fit linear trend to log(runtime)\n",
    "trends = {B: np.polyfit(np.log(list(buildings_results[B].keys())),np.log(list(buildings_results[B].values())),deg=1) for B in num_buildings}\n",
    "print(trends)"
   ]
  },
  {
   "cell_type": "code",
   "execution_count": 7,
   "metadata": {},
   "outputs": [
    {
     "name": "stdout",
     "output_type": "stream",
     "text": [
      "131.77206154938335\n"
     ]
    }
   ],
   "source": [
    "# Find max allowable samples\n",
    "runtime_limit = 60*60*24*5\n",
    "scenarios_limit = np.exp((np.log(runtime_limit) - trends[1][1])/trends[1][0])\n",
    "print(scenarios_limit)"
   ]
  },
  {
   "cell_type": "code",
   "execution_count": 8,
   "metadata": {},
   "outputs": [
    {
     "data": {
      "image/png": "[encoded data removed]",
      "text/plain": [
       "<Figure size 640x480 with 1 Axes>"
      ]
     },
     "metadata": {},
     "output_type": "display_data"
    }
   ],
   "source": [
    "# Plot computational time results\n",
    "lss = ['-','--',':']\n",
    "max_scenarios = 25\n",
    "\n",
    "for i,B in enumerate(num_buildings):\n",
    "    plt.plot(buildings_results[B].keys(),buildings_results[B].values(),'ok')\n",
    "    plt.plot(np.arange(1,max_scenarios+1),np.exp(np.log(np.arange(1,max_scenarios+1))*trends[B][0] + trends[B][1]),c='k',ls=lss[i])\n",
    "plt.xlabel(\"Number of scenarios\")\n",
    "plt.xscale('log')\n",
    "plt.ylabel('LP Runtime (s)')\n",
    "plt.yscale('log')\n",
    "plt.xlim(0.9,max_scenarios*1.1)\n",
    "plt.ylim(5)\n",
    "plt.grid(True,'major',alpha=0.5,linestyle='--')\n",
    "plt.show()"
   ]
  },
  {
   "cell_type": "markdown",
   "metadata": {},
   "source": [
    "## Look at convergence of system cost MC estimate"
   ]
  },
  {
   "cell_type": "code",
   "execution_count": null,
   "metadata": {},
   "outputs": [],
   "source": [
    "# Define multiprocessing helper functions.\n",
    "\n",
    "n_processes = min(25,os.cpu_count()//2) # for some reason more than this is an issue ...? Maybe a memory issue\n",
    "\n",
    "def multi_proc_constr_and_eval_system(args_list):\n",
    "\n",
    "    from sys_eval import construct_and_evaluate_system\n",
    "\n",
    "    return construct_and_evaluate_system(*args_list)\n",
    "\n",
    "def parallel_task(func, iterable, n_procs):\n",
    "    # Adapted from solution to https://stackoverflow.com/questions/47313732/jupyter-notebook-never-finishes-processing-using-multiprocessing-python-3/47374811\n",
    "    # NOTE: this function must be in the notebook\n",
    "    # NOTE: in this workaround, the function passed to `parallel_task`\n",
    "    # must do all of the importing it needs, and unwrap the arguments\n",
    "    # (only a single argument can be passed)\n",
    "\n",
    "    temp_path = f'./tmp_func.py'\n",
    "    with open(temp_path, 'w') as file:\n",
    "        file.write(inspect.getsource(func).replace(func.__name__, \"task\"))\n",
    "\n",
    "    from tmp_func import task\n",
    "\n",
    "    if __name__ == '__main__':\n",
    "        pool = Pool(processes=n_procs)\n",
    "        res = list(tqdm(pool.imap(task, iterable), total=len(iterable)))\n",
    "        pool.close()\n",
    "        os.remove(temp_path)\n",
    "        return res\n",
    "    else:\n",
    "        raise \"Not in Jupyter Notebook\""
   ]
  },
  {
   "cell_type": "code",
   "execution_count": null,
   "metadata": {},
   "outputs": [],
   "source": [
    "# Compute MC estimate of true system cost\n",
    "mproc_args_list = [[lp_results['battery_capacities'],lp_results['solar_capacities'],eta_samples[n],base_kwargs,pricing_dict,opex_factor,n] for n in range(n_draws)]\n",
    "cost_evals = parallel_task(multi_proc_constr_and_eval_system, mproc_args_list, n_procs=n_processes)"
   ]
  },
  {
   "cell_type": "code",
   "execution_count": null,
   "metadata": {},
   "outputs": [],
   "source": [
    "# Plot convergence of MC estimate\n",
    "MC_means = [np.mean(cost_evals[:i]) for i in range(1,n_draws+1)]\n",
    "MC_stnd_errors = [np.std(cost_evals[:i])/np.sqrt(i) for i in range(2,n_draws+1)]\n",
    "\n",
    "fig,ax = plt.subplots()\n",
    "ax.set_xlim(1,n_draws)\n",
    "ax.set_xlabel(\"Number of samples\")\n",
    "ax.grid(True,'major',alpha=0.5,linestyle='--')\n",
    "\n",
    "ax.plot(range(1,n_draws+1),np.array(MC_means)/1e6,'-k')\n",
    "ax.set_ylabel('Mean cost estimate (£m)')\n",
    "#ax.set_ylim(0)\n",
    "\n",
    "# min_ax = ax.twinx()\n",
    "# min_ax.plot(range(2,n_draws+1),(np.array(MC_stnd_errors)/MC_means[-1])*100,'k--')\n",
    "# min_ax.set_ylabel('Estimate standard error (% of final mean)')\n",
    "# min_ax.set_ylim(0)\n",
    "\n",
    "min_ax_abs = ax.twinx()\n",
    "min_ax_abs.plot(range(2,n_draws+1),np.array(MC_stnd_errors)/1e3,'k:')\n",
    "min_ax_abs.set_ylabel('Estimate standard error (£k)')\n",
    "min_ax_abs.set_ylim(0)\n",
    "\n",
    "plt.show()"
   ]
  },
  {
   "cell_type": "markdown",
   "metadata": {},
   "source": [
    "To find a reasonable value of MC estimates needed we could repeat this analysis for a number of seeds and find the average number of samples needed for the standard error to fall below a given threshold, e.g. £100k, are initially peaking"
   ]
  },
  {
   "cell_type": "code",
   "execution_count": null,
   "metadata": {},
   "outputs": [],
   "source": [
    "print(cost_evals)\n",
    "print(MC_means)\n",
    "print(MC_stnd_errors)"
   ]
  },
  {
   "cell_type": "code",
   "execution_count": null,
   "metadata": {},
   "outputs": [],
   "source": []
  }
 ],
 "metadata": {
  "kernelspec": {
   "display_name": "VOI-CAS",
   "language": "python",
   "name": "python3"
  },
  "language_info": {
   "codemirror_mode": {
    "name": "ipython",
    "version": 3
   },
   "file_extension": ".py",
   "mimetype": "text/x-python",
   "name": "python",
   "nbconvert_exporter": "python",
   "pygments_lexer": "ipython3",
   "version": "3.8.16"
  },
  "orig_nbformat": 4
 },
 "nbformat": 4,
 "nbformat_minor": 2
}
