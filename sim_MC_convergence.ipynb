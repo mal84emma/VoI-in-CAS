{
 "cells": [
  {
   "attachments": {},
   "cell_type": "markdown",
   "metadata": {},
   "source": [
    "# Test convergence of system cost MC estimate from simulator"
   ]
  },
  {
   "cell_type": "code",
   "execution_count": 1,
   "metadata": {},
   "outputs": [],
   "source": [
    "import os\n",
    "import csv\n",
    "import json\n",
    "import copy\n",
    "import time\n",
    "import random\n",
    "import numpy as np\n",
    "import matplotlib.pyplot as plt\n",
    "\n",
    "import inspect\n",
    "from tqdm import tqdm\n",
    "from multiprocessing import Pool\n",
    "\n",
    "from citylearn.citylearn import CityLearnEnv\n",
    "from linmodel import LinProgModel\n",
    "from schema_builder import build_schema\n",
    "from sys_eval import evaluate_system"
   ]
  },
  {
   "cell_type": "code",
   "execution_count": 2,
   "metadata": {},
   "outputs": [],
   "source": [
    "# set up test parameters\n",
    "dataset_dir = os.path.join('A37_analysis_test') # dataset directory\n",
    "schema_path = os.path.join('data', dataset_dir, 'schema.json')\n",
    "opex_factor = 10\n",
    "pricing_dict = {'carbon':5e-1,'battery':1e3,'solar':2e3}\n",
    "\n",
    "with open(os.path.join(dataset_dir,'metadata_ext.json'),'r') as json_file:\n",
    "    annex_defaults = json.load(json_file)"
   ]
  },
  {
   "cell_type": "code",
   "execution_count": 3,
   "metadata": {},
   "outputs": [],
   "source": [
    "# Set up base parameters of system.\n",
    "ids = [0,3,9,11,12,15,16,25,26,32,38,44,45,48,49]"
   ]
  },
  {
   "cell_type": "code",
   "execution_count": 4,
   "metadata": {},
   "outputs": [],
   "source": [
    "# Set up probabilistic model of effiencies and take draws\n",
    "n_draws = 100\n",
    "mu = 0.85\n",
    "sigma = 0.1\n",
    "eta_samples = np.random.normal(loc=mu,scale=sigma,size=(n_draws,len(ids)))\n",
    "eta_samples = np.clip(eta_samples,0,1)"
   ]
  },
  {
   "cell_type": "code",
   "execution_count": null,
   "metadata": {},
   "outputs": [],
   "source": [
    "# Define multiprocessing helper functions.\n",
    "\n",
    "n_processes = min(25,os.cpu_count()//2) # for some reason more than this is an issue ...? Maybe a memory issue\n",
    "\n",
    "def multi_proc_constr_and_eval_system(args_list):\n",
    "\n",
    "    from sys_eval import construct_and_evaluate_system\n",
    "\n",
    "    return construct_and_evaluate_system(*args_list)\n",
    "\n",
    "def parallel_task(func, iterable, n_procs):\n",
    "    # Adapted from solution to https://stackoverflow.com/questions/47313732/jupyter-notebook-never-finishes-processing-using-multiprocessing-python-3/47374811\n",
    "    # NOTE: this function must be in the notebook\n",
    "    # NOTE: in this workaround, the function passed to `parallel_task`\n",
    "    # must do all of the importing it needs, and unwrap the arguments\n",
    "    # (only a single argument can be passed)\n",
    "\n",
    "    temp_path = f'./tmp_func.py'\n",
    "    with open(temp_path, 'w') as file:\n",
    "        file.write(inspect.getsource(func).replace(func.__name__, \"task\"))\n",
    "\n",
    "    from tmp_func import task\n",
    "\n",
    "    if __name__ == '__main__':\n",
    "        pool = Pool(processes=n_procs)\n",
    "        res = list(tqdm(pool.imap(task, iterable), total=len(iterable)))\n",
    "        pool.close()\n",
    "        os.remove(temp_path)\n",
    "        return res\n",
    "    else:\n",
    "        raise \"Not in Jupyter Notebook\""
   ]
  },
  {
   "cell_type": "code",
   "execution_count": null,
   "metadata": {},
   "outputs": [],
   "source": [
    "# Compute MC estimate of true system cost\n",
    "mproc_args_list = [[lp_results['battery_capacities'],lp_results['solar_capacities'],eta_samples[n],base_kwargs,pricing_dict,opex_factor,n] for n in range(n_draws)]\n",
    "cost_evals = parallel_task(multi_proc_constr_and_eval_system, mproc_args_list, n_procs=n_processes)"
   ]
  },
  {
   "cell_type": "code",
   "execution_count": null,
   "metadata": {},
   "outputs": [],
   "source": [
    "# Plot convergence of MC estimate\n",
    "MC_means = [np.mean(cost_evals[:i]) for i in range(1,n_draws+1)]\n",
    "MC_stnd_errors = [np.std(cost_evals[:i])/np.sqrt(i) for i in range(2,n_draws+1)]\n",
    "\n",
    "fig,ax = plt.subplots()\n",
    "ax.set_xlim(1,n_draws)\n",
    "ax.set_xlabel(\"Number of samples\")\n",
    "ax.grid(True,'major',alpha=0.5,linestyle='--')\n",
    "\n",
    "ax.plot(range(1,n_draws+1),np.array(MC_means)/1e6,'-k')\n",
    "ax.set_ylabel('Mean cost estimate (£m)')\n",
    "#ax.set_ylim(0)\n",
    "\n",
    "# min_ax = ax.twinx()\n",
    "# min_ax.plot(range(2,n_draws+1),(np.array(MC_stnd_errors)/MC_means[-1])*100,'k--')\n",
    "# min_ax.set_ylabel('Estimate standard error (% of final mean)')\n",
    "# min_ax.set_ylim(0)\n",
    "\n",
    "min_ax_abs = ax.twinx()\n",
    "min_ax_abs.plot(range(2,n_draws+1),np.array(MC_stnd_errors)/1e3,'k:')\n",
    "min_ax_abs.set_ylabel('Estimate standard error (£k)')\n",
    "min_ax_abs.set_ylim(0)\n",
    "\n",
    "plt.show()"
   ]
  },
  {
   "cell_type": "markdown",
   "metadata": {},
   "source": [
    "To find a reasonable value of MC estimates needed we could repeat this analysis for a number of seeds and find the average number of samples needed for the standard error to fall below a given threshold, e.g. £100k, are initially peaking"
   ]
  },
  {
   "cell_type": "code",
   "execution_count": null,
   "metadata": {},
   "outputs": [],
   "source": [
    "print(cost_evals)\n",
    "print(MC_means)\n",
    "print(MC_stnd_errors)"
   ]
  },
  {
   "cell_type": "code",
   "execution_count": null,
   "metadata": {},
   "outputs": [],
   "source": [
    "shuffle_costs = copy.deepcopy(cost_evals)\n",
    "n_shuffles = 100\n",
    "threshold = 100e3 # threshold on standard error\n",
    "\n",
    "req_samples = []\n",
    "\n",
    "for _ in range(n_shuffles):\n",
    "    random.shuffle(shuffle_costs)\n",
    "    shuffle_stnd_errors = [np.std(shuffle_costs[:i])/np.sqrt(i) for i in range(n_draws+1)]\n",
    "\n",
    "    for j,val in enumerate(reversed(shuffle_stnd_errors)): # work backwards through stnd error values\n",
    "        if val > threshold: # when std error first rises above threshold\n",
    "            ind = n_draws - j # get index of position after this in forwards list\n",
    "    req_samples.append(ind+1) # report number of samples needed to stably drop below threshold on stnd error"
   ]
  },
  {
   "cell_type": "code",
   "execution_count": null,
   "metadata": {},
   "outputs": [],
   "source": [
    "print(req_samples)\n",
    "print(np.mean(req_samples))"
   ]
  }
 ],
 "metadata": {
  "kernelspec": {
   "display_name": "VOI-CAS",
   "language": "python",
   "name": "python3"
  },
  "language_info": {
   "codemirror_mode": {
    "name": "ipython",
    "version": 3
   },
   "file_extension": ".py",
   "mimetype": "text/x-python",
   "name": "python",
   "nbconvert_exporter": "python",
   "pygments_lexer": "ipython3",
   "version": "3.8.16"
  },
  "orig_nbformat": 4
 },
 "nbformat": 4,
 "nbformat_minor": 2
}
