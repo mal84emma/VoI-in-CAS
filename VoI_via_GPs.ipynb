{
 "cells": [
  {
   "cell_type": "markdown",
   "metadata": {},
   "source": [
    "# Perform VoI calculation using GP surrogate over join action-uncertainty space"
   ]
  },
  {
   "cell_type": "code",
   "execution_count": null,
   "metadata": {},
   "outputs": [],
   "source": [
    "import os\n",
    "import time\n",
    "import numpy as np\n",
    "from tqdm import tqdm\n",
    "\n",
    "from sys_eval import evaluate_system\n",
    "from schema_builder import build_schema\n",
    "\n",
    "from scipy.stats import qmc\n",
    "import sklearn.gaussian_process as gp\n",
    "import scipy.optimize as op\n",
    "\n",
    "import matplotlib.pyplot as plt\n",
    "import matplotlib.tri as tri"
   ]
  },
  {
   "cell_type": "code",
   "execution_count": null,
   "metadata": {},
   "outputs": [],
   "source": [
    "ids = [11]"
   ]
  },
  {
   "cell_type": "code",
   "execution_count": null,
   "metadata": {},
   "outputs": [],
   "source": [
    "# Define base parameters.\n",
    "opex_factor = 10\n",
    "pricing_dict = {'carbon':5e-1,'battery':1e3,'solar':2e3}\n",
    "base_kwargs = {\n",
    "    'output_dir_path': os.path.join('data','A37_example_test'),\n",
    "    'building_names': ['UCam_Building_%s'%id for id in ids],\n",
    "    'battery_energy_capacities': None,\n",
    "    'battery_power_capacities': [342.0], # [391.0,342.0,343.0,306.0,598.0,571.0], # from Annex 37\n",
    "    'battery_efficiencies': None,\n",
    "    'pv_power_capacities': None,\n",
    "    'load_data_paths': ['UCam_Building_%s.csv'%id for id in ids],\n",
    "    'weather_data_path': 'weather.csv',\n",
    "    'carbon_intensity_data_path': 'carbon_intensity.csv',\n",
    "    'pricing_data_path': 'pricing.csv',\n",
    "    'schema_name': 'schema_temp'\n",
    "}"
   ]
  },
  {
   "cell_type": "code",
   "execution_count": null,
   "metadata": {},
   "outputs": [],
   "source": [
    "def construct_and_evaluate_system(battery_capacities,solar_capacities,battery_efficiencies,base_kwargs):\n",
    "\n",
    "    base_kwargs.update({\n",
    "                'battery_energy_capacities': battery_capacities,\n",
    "                'battery_efficiencies': battery_efficiencies,\n",
    "                'pv_power_capacities': solar_capacities\n",
    "            })\n",
    "    schema_path = build_schema(**base_kwargs)\n",
    "\n",
    "    eval_results = evaluate_system(schema_path,pricing_dict,opex_factor,suppress_output=True)\n",
    "\n",
    "    return eval_results['objective']"
   ]
  },
  {
   "cell_type": "markdown",
   "metadata": {},
   "source": [
    "## Step 1: Train GP Surrogate"
   ]
  },
  {
   "cell_type": "markdown",
   "metadata": {},
   "source": [
    "Note: probably sensible to conduct an initial rough space search to identify sensible bounds as we expect the objective (cost) to be behaviour reasonably nicely, at least far from the region of the optimum.\n",
    "The smaller the bounded region the better the surrogate will be and the easier the global optimisation will be - however as these bounds are arbitrary, if we encounter boundary solutions, the bounds need to be extended."
   ]
  },
  {
   "cell_type": "markdown",
   "metadata": {},
   "source": [
    "Remeber to note Dom's alternative suggestion for learning a surrogate, and it's motivation from the smoothness of his posterior solution results"
   ]
  },
  {
   "cell_type": "code",
   "execution_count": null,
   "metadata": {},
   "outputs": [],
   "source": [
    "# Perform sampling of action-uncertainty space\n",
    "seed = 42\n",
    "n_samples = 100\n",
    "\n",
    "# Space filling sampling of action sub-space using Latin Hypercube\n",
    "lower_bounds = np.array([*[5e2]*len(ids),*[1e2]*len(ids)])\n",
    "upper_bounds = np.array([*[2e3]*len(ids),*[1.5e3]*len(ids)])\n",
    "\n",
    "action_sampler = qmc.LatinHypercube(d=len(ids)*2)\n",
    "action_samples = action_sampler.random(n=n_samples)\n",
    "action_samples = qmc.scale(action_samples, lower_bounds, upper_bounds)\n",
    "\n",
    "# Sample from prior distributions of uncertain parameters\n",
    "mu = 0.85\n",
    "sigma = 0.1\n",
    "eta_samples = np.random.normal(loc=mu,scale=sigma,size=(n_samples,len(ids)))\n",
    "eta_samples = np.clip(eta_samples,0,1)\n",
    "\n",
    "# Combine samples from two sub-spaces\n",
    "space_samples = np.hstack([action_samples,eta_samples])"
   ]
  },
  {
   "cell_type": "code",
   "execution_count": null,
   "metadata": {},
   "outputs": [],
   "source": [
    "# Evaluate system cost over samples.\n",
    "costs = []\n",
    "\n",
    "for n in tqdm(range(n_samples)):\n",
    "    cost = construct_and_evaluate_system(action_samples[n][:len(ids)],action_samples[n][len(ids):],eta_samples[n],base_kwargs)\n",
    "    costs.append(cost)"
   ]
  },
  {
   "cell_type": "code",
   "execution_count": null,
   "metadata": {},
   "outputs": [],
   "source": [
    "# Train Gaussian Process surrogate.\n",
    "\n",
    "kernel = 1 * gp.kernels.RBF(length_scale=np.ones(len(ids)*3))\n",
    "gp_surrogate = gp.GaussianProcessRegressor(kernel=kernel,normalize_y=True, n_restarts_optimizer=5)\n",
    "gp_surrogate.fit(space_samples, costs)\n",
    "gp_surrogate.kernel_"
   ]
  },
  {
   "cell_type": "markdown",
   "metadata": {},
   "source": [
    "NOTE!!! Training the GP properly seems to be a bit of an issue - the length scales that comes out of the optimiser are sometimes completely off"
   ]
  },
  {
   "cell_type": "code",
   "execution_count": null,
   "metadata": {},
   "outputs": [],
   "source": [
    "mean_prediction, std_prediction = gp_surrogate.predict(space_samples, return_std=True)"
   ]
  },
  {
   "cell_type": "code",
   "execution_count": null,
   "metadata": {},
   "outputs": [],
   "source": [
    "# Visual surrogate model.\n",
    "\n",
    "# Create set of points in action sub-space to interpolate to\n",
    "n_predict_points = 1000\n",
    "action_predict_sampler = qmc.LatinHypercube(d=len(ids)*2)\n",
    "action_predict_samples = action_predict_sampler.random(n=n_predict_points)\n",
    "action_predict_samples = qmc.scale(action_predict_samples, lower_bounds, upper_bounds)\n",
    "\n",
    "# Compute mean cost predicted by surrogate model.\n",
    "cost_predictions = []\n",
    "\n",
    "n_MC_samples = 1000\n",
    "for sample in tqdm(action_predict_samples):\n",
    "    eta_samples = np.random.normal(loc=mu,scale=sigma,size=(n_MC_samples,len(ids)))\n",
    "    eta_samples = np.clip(eta_samples,0,1)\n",
    "    predict_points = np.hstack([np.tile(sample,(n_MC_samples,1)),eta_samples])\n",
    "    mean_prediction = gp_surrogate.predict(predict_points)\n",
    "    cost_predictions.append(np.mean(mean_prediction))"
   ]
  },
  {
   "cell_type": "code",
   "execution_count": null,
   "metadata": {},
   "outputs": [],
   "source": [
    "# Plot estatimate mean cost prediction from surrogate.\n",
    "assert len(ids) == 1\n",
    "\n",
    "n_levels = 20\n",
    "\n",
    "fig, ax = plt.subplots()\n",
    "triang = tri.Triangulation(action_predict_samples[:,0],action_predict_samples[:,1])\n",
    "tcf = ax.tricontourf(triang,cost_predictions,levels=n_levels)\n",
    "ax.tricontour(triang, cost_predictions,levels=n_levels, colors='k')\n",
    "fig.colorbar(tcf)\n",
    "ax.set_title(\"Surrogate prediction of mean system cost\")\n",
    "ax.set_xlabel(\"Battery energy capacity (kWh)\")\n",
    "ax.set_ylabel(\"Solar power capacity (kWp)\")"
   ]
  },
  {
   "cell_type": "code",
   "execution_count": null,
   "metadata": {},
   "outputs": [],
   "source": [
    "# Compute cost predicted by surrogate model for specific eta.\n",
    "se_cost_predictions = []\n",
    "\n",
    "for sample in tqdm(action_predict_samples):\n",
    "    eta_sample = np.random.normal(loc=mu,scale=sigma,size=(len(ids)))\n",
    "    predict_points = np.hstack([sample,eta_sample])\n",
    "    mean_prediction = gp_surrogate.predict([predict_points])\n",
    "    se_cost_predictions.append(np.mean(mean_prediction))\n",
    "\n",
    "print(eta_sample)\n",
    "\n",
    "# Plot estatimate mean cost prediction from surrogate.\n",
    "assert len(ids) == 1\n",
    "\n",
    "n_levels = 20\n",
    "\n",
    "fig, ax = plt.subplots()\n",
    "triang = tri.Triangulation(action_predict_samples[:,0],action_predict_samples[:,1])\n",
    "tcf = ax.tricontourf(triang,se_cost_predictions,levels=n_levels)\n",
    "ax.tricontour(triang, se_cost_predictions,levels=n_levels, colors='k')\n",
    "fig.colorbar(tcf)\n",
    "ax.set_title(f\"Surrogate prediction of system cost for eta=%s\"%round(eta_sample[0],4))"
   ]
  },
  {
   "cell_type": "markdown",
   "metadata": {},
   "source": [
    "### Investigate convergence of MC estimate using surrogate model"
   ]
  },
  {
   "cell_type": "code",
   "execution_count": null,
   "metadata": {},
   "outputs": [],
   "source": [
    "# use last cost_predictions as test case\n",
    "n_draws = 100\n",
    "\n",
    "MC_means = [np.mean(cost_predictions[:i]) for i in range(1,n_draws+1)]\n",
    "MC_stnd_errors = [np.std(cost_predictions[:i])/np.sqrt(i) for i in range(2,n_draws+1)]\n",
    "\n",
    "fig,ax = plt.subplots()\n",
    "ax.set_xlim(1,n_draws)\n",
    "ax.set_xlabel(\"Number of samples\")\n",
    "ax.grid(True,'major',alpha=0.5,linestyle='--')\n",
    "\n",
    "ax.plot(range(1,n_draws+1),np.array(MC_means)/1e6,'-k')\n",
    "ax.set_ylabel('Mean cost estimate (£m)')\n",
    "#ax.set_ylim(0)\n",
    "\n",
    "# min_ax = ax.twinx()\n",
    "# min_ax.plot(range(2,n_draws+1),(np.array(MC_stnd_errors)/MC_means[-1])*100,'k--')\n",
    "# min_ax.set_ylabel('Estimate standard error (% of final mean)')\n",
    "# min_ax.set_ylim(0)\n",
    "\n",
    "min_ax_abs = ax.twinx()\n",
    "min_ax_abs.plot(range(2,n_draws+1),np.array(MC_stnd_errors)/1e3,'k:')\n",
    "min_ax_abs.set_ylabel('Estimate standard error (£k)')\n",
    "min_ax_abs.set_ylim(0)\n",
    "\n",
    "plt.show()"
   ]
  },
  {
   "cell_type": "markdown",
   "metadata": {},
   "source": [
    "## Step 2: Solve Prior Problem using Surrogate"
   ]
  },
  {
   "cell_type": "code",
   "execution_count": null,
   "metadata": {},
   "outputs": [],
   "source": [
    "# Define fn of mean system cost predicted by surrogate.\n",
    "def mean_cost_surrogate_estimate(x, surrogate, n_MC_samples, eta_mu, eta_sigma):\n",
    "\n",
    "    assert len(x) % 2 == 0, \"Design variable argument must have even length.\"\n",
    "\n",
    "    # Make draw from distribution of uncertainties - specified in args (mu, sigma)\n",
    "    # ========================================================================\n",
    "    eta_samples = np.random.normal(loc=eta_mu,scale=eta_sigma,size=(n_MC_samples,len(ids)))\n",
    "    eta_samples = np.clip(eta_samples,0,1)\n",
    "\n",
    "    # Predict costs for each efficiency sample at target point using surrogate\n",
    "    # ========================================================================\n",
    "    predict_points = np.hstack([np.tile(x,(n_MC_samples,1)),eta_samples])\n",
    "    mean_prediction = surrogate.predict(predict_points)\n",
    "\n",
    "    return np.mean(mean_prediction)"
   ]
  },
  {
   "cell_type": "code",
   "execution_count": null,
   "metadata": {},
   "outputs": [],
   "source": [
    "bounds = op.Bounds(lb=lower_bounds,ub=upper_bounds)\n",
    "n_MC_samples = 1000"
   ]
  },
  {
   "cell_type": "code",
   "execution_count": null,
   "metadata": {},
   "outputs": [],
   "source": [
    "prior_soln = op.differential_evolution(mean_cost_surrogate_estimate, bounds, args=(gp_surrogate,n_MC_samples,mu,sigma), seed=seed)\n",
    "print(prior_soln.x, prior_soln.fun, prior_soln.message)\n",
    "prior_design = prior_soln.x\n",
    "prior_cost = prior_soln.fun\n",
    "print(prior_cost)"
   ]
  },
  {
   "cell_type": "markdown",
   "metadata": {},
   "source": [
    "### Test quality of surrogate optimal solution"
   ]
  },
  {
   "cell_type": "code",
   "execution_count": null,
   "metadata": {},
   "outputs": [],
   "source": [
    "n_MC_samples = 100\n",
    "eta_samples = np.random.normal(loc=mu,scale=sigma,size=(n_MC_samples,len(ids)))\n",
    "eta_samples = np.clip(eta_samples,0,1)\n",
    "\n",
    "sample_costs = []\n",
    "\n",
    "for eta_sample in tqdm(eta_samples):\n",
    "    sample_cost = construct_and_evaluate_system(prior_design[:len(ids)],prior_design[len(ids):],eta_sample,base_kwargs)\n",
    "    sample_costs.append(sample_cost)\n",
    "\n",
    "true_prior_soln_cost_estimate = np.mean(sample_costs)\n",
    "\n",
    "print(f\"Surrogate optimal solution fn error: {round((np.abs(true_prior_soln_cost_estimate-prior_cost)/true_prior_soln_cost_estimate)*100,2)}%\")"
   ]
  },
  {
   "cell_type": "markdown",
   "metadata": {},
   "source": [
    "## Step 3: Solve Pre-Posterior Problem using Surrogate"
   ]
  },
  {
   "cell_type": "code",
   "execution_count": null,
   "metadata": {},
   "outputs": [],
   "source": [
    "# Sample from prior distribution of uncertainties.\n",
    "n_prior_samples = 100\n",
    "prior_eta_samples = np.random.normal(loc=mu,scale=sigma,size=(n_prior_samples,len(ids)))\n",
    "prior_eta_samples = np.clip(prior_eta_samples,0,1)"
   ]
  },
  {
   "cell_type": "code",
   "execution_count": null,
   "metadata": {},
   "outputs": [],
   "source": [
    "posterior_sigma = 0.025 # define measurment uncertainty\n",
    "\n",
    "posterior_optimal_costs = []\n",
    "\n",
    "# Solve posterior problem for each eta sample.\n",
    "for eta_sample in tqdm(prior_eta_samples):\n",
    "    posterior_soln = op.differential_evolution(mean_cost_surrogate_estimate, bounds, args=(gp_surrogate,n_MC_samples,eta_sample,posterior_sigma), seed=seed)\n",
    "    #print(eta_sample, posterior_soln.x, posterior_soln.fun, posterior_soln.message)\n",
    "    posterior_optimal_costs.append(posterior_soln.fun)\n",
    "\n",
    "preposterior_cost = np.mean(posterior_optimal_costs)\n",
    "print(preposterior_cost)"
   ]
  },
  {
   "cell_type": "markdown",
   "metadata": {},
   "source": [
    "## Step 4: Report VOI Result"
   ]
  },
  {
   "cell_type": "code",
   "execution_count": null,
   "metadata": {},
   "outputs": [],
   "source": [
    "print(\"VOI: %s\"%round(prior_cost-preposterior_cost,2))"
   ]
  },
  {
   "cell_type": "code",
   "execution_count": null,
   "metadata": {},
   "outputs": [],
   "source": [
    "print(prior_cost,preposterior_cost)"
   ]
  },
  {
   "cell_type": "code",
   "execution_count": null,
   "metadata": {},
   "outputs": [],
   "source": []
  }
 ],
 "metadata": {
  "kernelspec": {
   "display_name": "VOI-CAS",
   "language": "python",
   "name": "python3"
  },
  "language_info": {
   "codemirror_mode": {
    "name": "ipython",
    "version": 3
   },
   "file_extension": ".py",
   "mimetype": "text/x-python",
   "name": "python",
   "nbconvert_exporter": "python",
   "pygments_lexer": "ipython3",
   "version": "3.8.16"
  },
  "orig_nbformat": 4
 },
 "nbformat": 4,
 "nbformat_minor": 2
}
